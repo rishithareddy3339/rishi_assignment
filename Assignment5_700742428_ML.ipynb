{
 "cells": [
  {
   "cell_type": "markdown",
   "id": "2fcaa744",
   "metadata": {},
   "source": [
    "## ASSIGNMENT5"
   ]
  },
  {
   "cell_type": "markdown",
   "id": "6f1db043",
   "metadata": {},
   "source": [
    "## NALLAKALVA RISHITHA REDDY"
   ]
  },
  {
   "cell_type": "markdown",
   "id": "ef458a02",
   "metadata": {},
   "source": [
    "## 700742428"
   ]
  },
  {
   "cell_type": "markdown",
   "id": "fad510d9",
   "metadata": {},
   "source": [
    "1. Principal Component Analysis\n",
    "a. Apply PCA on CC dataset.\n",
    "b. Apply k-means algorithm on the PCA result and report your observation if the silhouette score\n",
    "has improved or not?\n",
    "c. Perform Scaling+PCA+K-Means and report performance."
   ]
  },
  {
   "cell_type": "code",
   "execution_count": 25,
   "id": "15c5754a",
   "metadata": {},
   "outputs": [],
   "source": [
    "import pandas as pd \n",
    "from sklearn.decomposition import PCA\n",
    "from sklearn.cluster import KMeans\n",
    "from sklearn import metrics\n",
    "from sklearn import preprocessing"
   ]
  },
  {
   "cell_type": "code",
   "execution_count": 5,
   "id": "36c17309",
   "metadata": {},
   "outputs": [
    {
     "data": {
      "text/html": [
       "<div>\n",
       "<style scoped>\n",
       "    .dataframe tbody tr th:only-of-type {\n",
       "        vertical-align: middle;\n",
       "    }\n",
       "\n",
       "    .dataframe tbody tr th {\n",
       "        vertical-align: top;\n",
       "    }\n",
       "\n",
       "    .dataframe thead th {\n",
       "        text-align: right;\n",
       "    }\n",
       "</style>\n",
       "<table border=\"1\" class=\"dataframe\">\n",
       "  <thead>\n",
       "    <tr style=\"text-align: right;\">\n",
       "      <th></th>\n",
       "      <th>CUST_ID</th>\n",
       "      <th>BALANCE</th>\n",
       "      <th>BALANCE_FREQUENCY</th>\n",
       "      <th>PURCHASES</th>\n",
       "      <th>ONEOFF_PURCHASES</th>\n",
       "      <th>INSTALLMENTS_PURCHASES</th>\n",
       "      <th>CASH_ADVANCE</th>\n",
       "      <th>PURCHASES_FREQUENCY</th>\n",
       "      <th>ONEOFF_PURCHASES_FREQUENCY</th>\n",
       "      <th>PURCHASES_INSTALLMENTS_FREQUENCY</th>\n",
       "      <th>CASH_ADVANCE_FREQUENCY</th>\n",
       "      <th>CASH_ADVANCE_TRX</th>\n",
       "      <th>PURCHASES_TRX</th>\n",
       "      <th>CREDIT_LIMIT</th>\n",
       "      <th>PAYMENTS</th>\n",
       "      <th>MINIMUM_PAYMENTS</th>\n",
       "      <th>PRC_FULL_PAYMENT</th>\n",
       "      <th>TENURE</th>\n",
       "    </tr>\n",
       "  </thead>\n",
       "  <tbody>\n",
       "    <tr>\n",
       "      <th>0</th>\n",
       "      <td>C10001</td>\n",
       "      <td>40.900749</td>\n",
       "      <td>0.818182</td>\n",
       "      <td>95.40</td>\n",
       "      <td>0.00</td>\n",
       "      <td>95.4</td>\n",
       "      <td>0.000000</td>\n",
       "      <td>0.166667</td>\n",
       "      <td>0.000000</td>\n",
       "      <td>0.083333</td>\n",
       "      <td>0.000000</td>\n",
       "      <td>0</td>\n",
       "      <td>2</td>\n",
       "      <td>1000.0</td>\n",
       "      <td>201.802084</td>\n",
       "      <td>139.509787</td>\n",
       "      <td>0.000000</td>\n",
       "      <td>12</td>\n",
       "    </tr>\n",
       "    <tr>\n",
       "      <th>1</th>\n",
       "      <td>C10002</td>\n",
       "      <td>3202.467416</td>\n",
       "      <td>0.909091</td>\n",
       "      <td>0.00</td>\n",
       "      <td>0.00</td>\n",
       "      <td>0.0</td>\n",
       "      <td>6442.945483</td>\n",
       "      <td>0.000000</td>\n",
       "      <td>0.000000</td>\n",
       "      <td>0.000000</td>\n",
       "      <td>0.250000</td>\n",
       "      <td>4</td>\n",
       "      <td>0</td>\n",
       "      <td>7000.0</td>\n",
       "      <td>4103.032597</td>\n",
       "      <td>1072.340217</td>\n",
       "      <td>0.222222</td>\n",
       "      <td>12</td>\n",
       "    </tr>\n",
       "    <tr>\n",
       "      <th>2</th>\n",
       "      <td>C10003</td>\n",
       "      <td>2495.148862</td>\n",
       "      <td>1.000000</td>\n",
       "      <td>773.17</td>\n",
       "      <td>773.17</td>\n",
       "      <td>0.0</td>\n",
       "      <td>0.000000</td>\n",
       "      <td>1.000000</td>\n",
       "      <td>1.000000</td>\n",
       "      <td>0.000000</td>\n",
       "      <td>0.000000</td>\n",
       "      <td>0</td>\n",
       "      <td>12</td>\n",
       "      <td>7500.0</td>\n",
       "      <td>622.066742</td>\n",
       "      <td>627.284787</td>\n",
       "      <td>0.000000</td>\n",
       "      <td>12</td>\n",
       "    </tr>\n",
       "    <tr>\n",
       "      <th>3</th>\n",
       "      <td>C10004</td>\n",
       "      <td>1666.670542</td>\n",
       "      <td>0.636364</td>\n",
       "      <td>1499.00</td>\n",
       "      <td>1499.00</td>\n",
       "      <td>0.0</td>\n",
       "      <td>205.788017</td>\n",
       "      <td>0.083333</td>\n",
       "      <td>0.083333</td>\n",
       "      <td>0.000000</td>\n",
       "      <td>0.083333</td>\n",
       "      <td>1</td>\n",
       "      <td>1</td>\n",
       "      <td>7500.0</td>\n",
       "      <td>0.000000</td>\n",
       "      <td>NaN</td>\n",
       "      <td>0.000000</td>\n",
       "      <td>12</td>\n",
       "    </tr>\n",
       "    <tr>\n",
       "      <th>4</th>\n",
       "      <td>C10005</td>\n",
       "      <td>817.714335</td>\n",
       "      <td>1.000000</td>\n",
       "      <td>16.00</td>\n",
       "      <td>16.00</td>\n",
       "      <td>0.0</td>\n",
       "      <td>0.000000</td>\n",
       "      <td>0.083333</td>\n",
       "      <td>0.083333</td>\n",
       "      <td>0.000000</td>\n",
       "      <td>0.000000</td>\n",
       "      <td>0</td>\n",
       "      <td>1</td>\n",
       "      <td>1200.0</td>\n",
       "      <td>678.334763</td>\n",
       "      <td>244.791237</td>\n",
       "      <td>0.000000</td>\n",
       "      <td>12</td>\n",
       "    </tr>\n",
       "  </tbody>\n",
       "</table>\n",
       "</div>"
      ],
      "text/plain": [
       "  CUST_ID      BALANCE  BALANCE_FREQUENCY  PURCHASES  ONEOFF_PURCHASES  \\\n",
       "0  C10001    40.900749           0.818182      95.40              0.00   \n",
       "1  C10002  3202.467416           0.909091       0.00              0.00   \n",
       "2  C10003  2495.148862           1.000000     773.17            773.17   \n",
       "3  C10004  1666.670542           0.636364    1499.00           1499.00   \n",
       "4  C10005   817.714335           1.000000      16.00             16.00   \n",
       "\n",
       "   INSTALLMENTS_PURCHASES  CASH_ADVANCE  PURCHASES_FREQUENCY  \\\n",
       "0                    95.4      0.000000             0.166667   \n",
       "1                     0.0   6442.945483             0.000000   \n",
       "2                     0.0      0.000000             1.000000   \n",
       "3                     0.0    205.788017             0.083333   \n",
       "4                     0.0      0.000000             0.083333   \n",
       "\n",
       "   ONEOFF_PURCHASES_FREQUENCY  PURCHASES_INSTALLMENTS_FREQUENCY  \\\n",
       "0                    0.000000                          0.083333   \n",
       "1                    0.000000                          0.000000   \n",
       "2                    1.000000                          0.000000   \n",
       "3                    0.083333                          0.000000   \n",
       "4                    0.083333                          0.000000   \n",
       "\n",
       "   CASH_ADVANCE_FREQUENCY  CASH_ADVANCE_TRX  PURCHASES_TRX  CREDIT_LIMIT  \\\n",
       "0                0.000000                 0              2        1000.0   \n",
       "1                0.250000                 4              0        7000.0   \n",
       "2                0.000000                 0             12        7500.0   \n",
       "3                0.083333                 1              1        7500.0   \n",
       "4                0.000000                 0              1        1200.0   \n",
       "\n",
       "      PAYMENTS  MINIMUM_PAYMENTS  PRC_FULL_PAYMENT  TENURE  \n",
       "0   201.802084        139.509787          0.000000      12  \n",
       "1  4103.032597       1072.340217          0.222222      12  \n",
       "2   622.066742        627.284787          0.000000      12  \n",
       "3     0.000000               NaN          0.000000      12  \n",
       "4   678.334763        244.791237          0.000000      12  "
      ]
     },
     "execution_count": 5,
     "metadata": {},
     "output_type": "execute_result"
    }
   ],
   "source": [
    "dataset = pd.read_csv('CC.csv')\n",
    "#print dataset \n",
    "dataset.head()\n"
   ]
  },
  {
   "cell_type": "code",
   "execution_count": 13,
   "id": "88872697",
   "metadata": {},
   "outputs": [],
   "source": [
    "dataset[\"CREDIT_LIMIT\"].fillna(dataset[\"CREDIT_LIMIT\"].mean(),inplace=True)\n",
    "dataset[\"MINIMUM_PAYMENTS\"].fillna(dataset[\"MINIMUM_PAYMENTS\"].mean(),inplace=True)\n",
    "#data x is taking the second column by eliminating first colum  as described by :,\n",
    "data_x = dataset.iloc[:,1:]\n",
    "#data y is taking the last column by not assuming the starting columns as we have taken -1\n",
    "data_y = dataset.iloc[:,-1]\n",
    "#kmean cluster fitting to dataset\n",
    "k_mean = KMeans(n_clusters=2)\n",
    "k_mean.fit(data_x)\n",
    "#predicting the kmean value using location of datasets\n",
    "cluster_km = k_mean.predict(data_x)"
   ]
  },
  {
   "cell_type": "code",
   "execution_count": 19,
   "id": "bd0c4bd4",
   "metadata": {},
   "outputs": [
    {
     "name": "stdout",
     "output_type": "stream",
     "text": [
      "Before score :\n",
      " 0.511639269641848\n"
     ]
    }
   ],
   "source": [
    "score = metrics.silhouette_score(data_x, cluster_km)\n",
    "#printing before silhouette score using dataset xlocation and cluster kmean \n",
    "print(\"Before score :\\n\",score)"
   ]
  },
  {
   "cell_type": "code",
   "execution_count": 21,
   "id": "0322ad8b",
   "metadata": {},
   "outputs": [
    {
     "name": "stdout",
     "output_type": "stream",
     "text": [
      "   component A  component B  TENURE\n",
      "0 -4326.383956   921.566884      12\n",
      "1  4118.916676 -2432.846347      12\n",
      "2  1497.907660 -1997.578692      12\n",
      "3  1394.548556 -1488.743450      12\n",
      "4 -3743.351874   757.342659      12\n"
     ]
    }
   ],
   "source": [
    "#PCA data to be transformed and showing it in a table \n",
    "pca_data = PCA(2)\n",
    "A_pca = pca_data.fit_transform(x)\n",
    "# forming the dataframe by principal components and concating the two dataframes\n",
    "data_frame2 = pd.DataFrame(data=A_pca, columns = ['component A', 'component B' ])\n",
    "last_dataframe = pd.concat([data_frame2,dataset[['TENURE']]],axis=1)\n",
    "#printing the data frame as final dataframe and displaying it\n",
    "print(last_dataframe.head())"
   ]
  },
  {
   "cell_type": "code",
   "execution_count": 23,
   "id": "e8d2cbe9",
   "metadata": {},
   "outputs": [
    {
     "name": "stdout",
     "output_type": "stream",
     "text": [
      "PCA RESULT 0.5980170297658036\n"
     ]
    }
   ],
   "source": [
    "#kmean & silhotte score on result of PCA\n",
    "kmean = KMeans(n_clusters=2)\n",
    "kmean.fit(A_pca)\n",
    "cluster_km = kmean.predict(A_pca)\n",
    "silhouette_score = metrics.silhouette_score(A_pca, cluster_km)\n",
    "#silhouette score on pca result\n",
    "print(\"PCA RESULT\",silhouette_score)"
   ]
  },
  {
   "cell_type": "code",
   "execution_count": 28,
   "id": "fa13b0c3",
   "metadata": {},
   "outputs": [
    {
     "name": "stdout",
     "output_type": "stream",
     "text": [
      "   component 1  component 2  TENURE\n",
      "0          NaN          NaN      12\n",
      "1          NaN          NaN      12\n",
      "2          NaN          NaN      12\n",
      "3          NaN          NaN      12\n",
      "4          NaN          NaN      12\n"
     ]
    }
   ],
   "source": [
    "# standard scaling\n",
    "stand_scaler = preprocessing.StandardScaler()\n",
    "stand_scaler.fit(x)\n",
    "A_scaled_arr = stand_scaler.transform(x)\n",
    "A_scaled = pd.DataFrame(A_scaled_arr, columns = x.columns)\n",
    "pca = PCA(2)\n",
    "A_pca = pca.fit_transform(A_scaled)\n",
    "data_frame2 = pd.DataFrame(data=A_scaled , columns = ['component 1', 'component 2' ])\n",
    "After_scaling = pd.concat([data_frame2,dataset[['TENURE']]],axis=1)\n",
    "print(After_scaling.head())"
   ]
  },
  {
   "cell_type": "code",
   "execution_count": 31,
   "id": "06a8ab7a",
   "metadata": {},
   "outputs": [
    {
     "name": "stdout",
     "output_type": "stream",
     "text": [
      "After Scaling : 0.20942403607852225\n"
     ]
    }
   ],
   "source": [
    "#silhoeutte score after scaling\n",
    "kmean = KMeans(n_clusters=2)\n",
    "kmean.fit(A_scaled)\n",
    "cluster_km = km.predict(A_scaled)\n",
    "Silhoeutte_score = metrics.silhouette_score(A_scaled, cluster_km)\n",
    "print(\"After Scaling :\", score)"
   ]
  },
  {
   "cell_type": "markdown",
   "id": "89e89d50",
   "metadata": {},
   "source": [
    "2. Use pd_speech_features.csv\n",
    "a. Perform Scaling\n",
    "b. Apply PCA (k=3)\n",
    "c. Use SVM to report performance\n"
   ]
  },
  {
   "cell_type": "code",
   "execution_count": 51,
   "id": "cbbe922b",
   "metadata": {},
   "outputs": [],
   "source": [
    "import pandas as pd \n",
    "from sklearn.svm import SVC, LinearSVC\n",
    "from sklearn.metrics import classification_report\n",
    "from sklearn.model_selection import train_test_split\n",
    "import warnings"
   ]
  },
  {
   "cell_type": "code",
   "execution_count": 45,
   "id": "a40ece99",
   "metadata": {},
   "outputs": [
    {
     "data": {
      "text/html": [
       "<div>\n",
       "<style scoped>\n",
       "    .dataframe tbody tr th:only-of-type {\n",
       "        vertical-align: middle;\n",
       "    }\n",
       "\n",
       "    .dataframe tbody tr th {\n",
       "        vertical-align: top;\n",
       "    }\n",
       "\n",
       "    .dataframe thead th {\n",
       "        text-align: right;\n",
       "    }\n",
       "</style>\n",
       "<table border=\"1\" class=\"dataframe\">\n",
       "  <thead>\n",
       "    <tr style=\"text-align: right;\">\n",
       "      <th></th>\n",
       "      <th>id</th>\n",
       "      <th>gender</th>\n",
       "      <th>PPE</th>\n",
       "      <th>DFA</th>\n",
       "      <th>RPDE</th>\n",
       "      <th>numPulses</th>\n",
       "      <th>numPeriodsPulses</th>\n",
       "      <th>meanPeriodPulses</th>\n",
       "      <th>stdDevPeriodPulses</th>\n",
       "      <th>locPctJitter</th>\n",
       "      <th>...</th>\n",
       "      <th>tqwt_kurtosisValue_dec_28</th>\n",
       "      <th>tqwt_kurtosisValue_dec_29</th>\n",
       "      <th>tqwt_kurtosisValue_dec_30</th>\n",
       "      <th>tqwt_kurtosisValue_dec_31</th>\n",
       "      <th>tqwt_kurtosisValue_dec_32</th>\n",
       "      <th>tqwt_kurtosisValue_dec_33</th>\n",
       "      <th>tqwt_kurtosisValue_dec_34</th>\n",
       "      <th>tqwt_kurtosisValue_dec_35</th>\n",
       "      <th>tqwt_kurtosisValue_dec_36</th>\n",
       "      <th>class</th>\n",
       "    </tr>\n",
       "  </thead>\n",
       "  <tbody>\n",
       "    <tr>\n",
       "      <th>0</th>\n",
       "      <td>0</td>\n",
       "      <td>1</td>\n",
       "      <td>0.85247</td>\n",
       "      <td>0.71826</td>\n",
       "      <td>0.57227</td>\n",
       "      <td>240</td>\n",
       "      <td>239</td>\n",
       "      <td>0.008064</td>\n",
       "      <td>0.000087</td>\n",
       "      <td>0.00218</td>\n",
       "      <td>...</td>\n",
       "      <td>1.5620</td>\n",
       "      <td>2.6445</td>\n",
       "      <td>3.8686</td>\n",
       "      <td>4.2105</td>\n",
       "      <td>5.1221</td>\n",
       "      <td>4.4625</td>\n",
       "      <td>2.6202</td>\n",
       "      <td>3.0004</td>\n",
       "      <td>18.9405</td>\n",
       "      <td>1</td>\n",
       "    </tr>\n",
       "    <tr>\n",
       "      <th>1</th>\n",
       "      <td>0</td>\n",
       "      <td>1</td>\n",
       "      <td>0.76686</td>\n",
       "      <td>0.69481</td>\n",
       "      <td>0.53966</td>\n",
       "      <td>234</td>\n",
       "      <td>233</td>\n",
       "      <td>0.008258</td>\n",
       "      <td>0.000073</td>\n",
       "      <td>0.00195</td>\n",
       "      <td>...</td>\n",
       "      <td>1.5589</td>\n",
       "      <td>3.6107</td>\n",
       "      <td>23.5155</td>\n",
       "      <td>14.1962</td>\n",
       "      <td>11.0261</td>\n",
       "      <td>9.5082</td>\n",
       "      <td>6.5245</td>\n",
       "      <td>6.3431</td>\n",
       "      <td>45.1780</td>\n",
       "      <td>1</td>\n",
       "    </tr>\n",
       "    <tr>\n",
       "      <th>2</th>\n",
       "      <td>0</td>\n",
       "      <td>1</td>\n",
       "      <td>0.85083</td>\n",
       "      <td>0.67604</td>\n",
       "      <td>0.58982</td>\n",
       "      <td>232</td>\n",
       "      <td>231</td>\n",
       "      <td>0.008340</td>\n",
       "      <td>0.000060</td>\n",
       "      <td>0.00176</td>\n",
       "      <td>...</td>\n",
       "      <td>1.5643</td>\n",
       "      <td>2.3308</td>\n",
       "      <td>9.4959</td>\n",
       "      <td>10.7458</td>\n",
       "      <td>11.0177</td>\n",
       "      <td>4.8066</td>\n",
       "      <td>2.9199</td>\n",
       "      <td>3.1495</td>\n",
       "      <td>4.7666</td>\n",
       "      <td>1</td>\n",
       "    </tr>\n",
       "    <tr>\n",
       "      <th>3</th>\n",
       "      <td>1</td>\n",
       "      <td>0</td>\n",
       "      <td>0.41121</td>\n",
       "      <td>0.79672</td>\n",
       "      <td>0.59257</td>\n",
       "      <td>178</td>\n",
       "      <td>177</td>\n",
       "      <td>0.010858</td>\n",
       "      <td>0.000183</td>\n",
       "      <td>0.00419</td>\n",
       "      <td>...</td>\n",
       "      <td>3.7805</td>\n",
       "      <td>3.5664</td>\n",
       "      <td>5.2558</td>\n",
       "      <td>14.0403</td>\n",
       "      <td>4.2235</td>\n",
       "      <td>4.6857</td>\n",
       "      <td>4.8460</td>\n",
       "      <td>6.2650</td>\n",
       "      <td>4.0603</td>\n",
       "      <td>1</td>\n",
       "    </tr>\n",
       "    <tr>\n",
       "      <th>4</th>\n",
       "      <td>1</td>\n",
       "      <td>0</td>\n",
       "      <td>0.32790</td>\n",
       "      <td>0.79782</td>\n",
       "      <td>0.53028</td>\n",
       "      <td>236</td>\n",
       "      <td>235</td>\n",
       "      <td>0.008162</td>\n",
       "      <td>0.002669</td>\n",
       "      <td>0.00535</td>\n",
       "      <td>...</td>\n",
       "      <td>6.1727</td>\n",
       "      <td>5.8416</td>\n",
       "      <td>6.0805</td>\n",
       "      <td>5.7621</td>\n",
       "      <td>7.7817</td>\n",
       "      <td>11.6891</td>\n",
       "      <td>8.2103</td>\n",
       "      <td>5.0559</td>\n",
       "      <td>6.1164</td>\n",
       "      <td>1</td>\n",
       "    </tr>\n",
       "  </tbody>\n",
       "</table>\n",
       "<p>5 rows × 755 columns</p>\n",
       "</div>"
      ],
      "text/plain": [
       "   id  gender      PPE      DFA     RPDE  numPulses  numPeriodsPulses  \\\n",
       "0   0       1  0.85247  0.71826  0.57227        240               239   \n",
       "1   0       1  0.76686  0.69481  0.53966        234               233   \n",
       "2   0       1  0.85083  0.67604  0.58982        232               231   \n",
       "3   1       0  0.41121  0.79672  0.59257        178               177   \n",
       "4   1       0  0.32790  0.79782  0.53028        236               235   \n",
       "\n",
       "   meanPeriodPulses  stdDevPeriodPulses  locPctJitter  ...  \\\n",
       "0          0.008064            0.000087       0.00218  ...   \n",
       "1          0.008258            0.000073       0.00195  ...   \n",
       "2          0.008340            0.000060       0.00176  ...   \n",
       "3          0.010858            0.000183       0.00419  ...   \n",
       "4          0.008162            0.002669       0.00535  ...   \n",
       "\n",
       "   tqwt_kurtosisValue_dec_28  tqwt_kurtosisValue_dec_29  \\\n",
       "0                     1.5620                     2.6445   \n",
       "1                     1.5589                     3.6107   \n",
       "2                     1.5643                     2.3308   \n",
       "3                     3.7805                     3.5664   \n",
       "4                     6.1727                     5.8416   \n",
       "\n",
       "   tqwt_kurtosisValue_dec_30  tqwt_kurtosisValue_dec_31  \\\n",
       "0                     3.8686                     4.2105   \n",
       "1                    23.5155                    14.1962   \n",
       "2                     9.4959                    10.7458   \n",
       "3                     5.2558                    14.0403   \n",
       "4                     6.0805                     5.7621   \n",
       "\n",
       "   tqwt_kurtosisValue_dec_32  tqwt_kurtosisValue_dec_33  \\\n",
       "0                     5.1221                     4.4625   \n",
       "1                    11.0261                     9.5082   \n",
       "2                    11.0177                     4.8066   \n",
       "3                     4.2235                     4.6857   \n",
       "4                     7.7817                    11.6891   \n",
       "\n",
       "   tqwt_kurtosisValue_dec_34  tqwt_kurtosisValue_dec_35  \\\n",
       "0                     2.6202                     3.0004   \n",
       "1                     6.5245                     6.3431   \n",
       "2                     2.9199                     3.1495   \n",
       "3                     4.8460                     6.2650   \n",
       "4                     8.2103                     5.0559   \n",
       "\n",
       "   tqwt_kurtosisValue_dec_36  class  \n",
       "0                    18.9405      1  \n",
       "1                    45.1780      1  \n",
       "2                     4.7666      1  \n",
       "3                     4.0603      1  \n",
       "4                     6.1164      1  \n",
       "\n",
       "[5 rows x 755 columns]"
      ]
     },
     "execution_count": 45,
     "metadata": {},
     "output_type": "execute_result"
    }
   ],
   "source": [
    "warnings.filterwarnings('always')\n",
    "df = pd.read_csv('pd_speech_features.csv')\n",
    "df.head()"
   ]
  },
  {
   "cell_type": "code",
   "execution_count": 38,
   "id": "aeae9696",
   "metadata": {},
   "outputs": [
    {
     "name": "stdout",
     "output_type": "stream",
     "text": [
      "NULL Vals:  id                           0\n",
      "gender                       0\n",
      "PPE                          0\n",
      "DFA                          0\n",
      "RPDE                         0\n",
      "                            ..\n",
      "tqwt_kurtosisValue_dec_33    0\n",
      "tqwt_kurtosisValue_dec_34    0\n",
      "tqwt_kurtosisValue_dec_35    0\n",
      "tqwt_kurtosisValue_dec_36    0\n",
      "class                        0\n",
      "Length: 755, dtype: int64\n"
     ]
    }
   ],
   "source": [
    "Empty_values = dataframe.isnull().sum()\n",
    "# printing null values in the dataframe \n",
    "print(\"NULL Vals: \", Empty_values)\n",
    "#dataset locations display\n",
    "x_ds = dataset.iloc[:,1:]\n",
    "y_ds = dataset.iloc[:,-1]"
   ]
  },
  {
   "cell_type": "code",
   "execution_count": 40,
   "id": "523a4713",
   "metadata": {},
   "outputs": [],
   "source": [
    "#applying scaling\n",
    "stand_scaler = preprocessing.StandardScaler()\n",
    "stand_scaler.fit(x_ds)\n",
    "A_scaled_array = stand_scaler.transform(x_ds)\n",
    "A_scaled = pd.DataFrame(A_scaled_array, columns = x.columns)"
   ]
  },
  {
   "cell_type": "code",
   "execution_count": 46,
   "id": "a4216a1c",
   "metadata": {},
   "outputs": [
    {
     "name": "stdout",
     "output_type": "stream",
     "text": [
      "PCA: \n",
      " [[-1.68222016 -1.07645008  0.48842456]\n",
      " [-1.13829361  2.50648401  0.600998  ]\n",
      " [ 0.96968378 -0.38352172  0.10236367]\n",
      " ...\n",
      " [-0.92620412 -1.8107884  -0.47473166]\n",
      " [-2.33655215 -0.65796873  0.97478569]\n",
      " [-0.55642237 -0.40046813  1.01540034]]\n",
      "Final DataFrame: \n",
      "     component 1   component 2   component 3  class\n",
      "0     -1.682220     -1.076450      0.488425    1.0\n",
      "1     -1.138294      2.506484      0.600998    1.0\n",
      "2      0.969684     -0.383522      0.102364    1.0\n",
      "3     -0.873627      0.043169      1.460031    1.0\n",
      "4     -1.599434     -0.688582      0.365048    1.0\n"
     ]
    }
   ],
   "source": [
    "#applying k=3 in pca\n",
    "pca = PCA(3)\n",
    "A_pca = pca.fit_transform(A_scaled)\n",
    "print(\"PCA: \\n\", A_pca)\n",
    "# forming the dataframe by principal components and concating the two dataframes\n",
    "dataframe2 = pd.DataFrame(data = A_pca, columns = [' component 1', ' component 2' , \" component 3\"])\n",
    "finaldatafrrame = pd.concat([dataframe2, df[['class']]], axis = 1)\n",
    "print(\"Final DataFrame: \\n\",finaldatafrrame.head())"
   ]
  },
  {
   "cell_type": "code",
   "execution_count": 53,
   "id": "ecccd8c5",
   "metadata": {},
   "outputs": [
    {
     "name": "stderr",
     "output_type": "stream",
     "text": [
      "C:\\Users\\India\\anaconda3\\lib\\site-packages\\sklearn\\metrics\\_classification.py:1318: UndefinedMetricWarning: Precision and F-score are ill-defined and being set to 0.0 in labels with no predicted samples. Use `zero_division` parameter to control this behavior.\n",
      "  _warn_prf(average, modifier, msg_start, len(result))\n",
      "C:\\Users\\India\\anaconda3\\lib\\site-packages\\sklearn\\metrics\\_classification.py:1318: UndefinedMetricWarning: Precision and F-score are ill-defined and being set to 0.0 in labels with no predicted samples. Use `zero_division` parameter to control this behavior.\n",
      "  _warn_prf(average, modifier, msg_start, len(result))\n",
      "C:\\Users\\India\\anaconda3\\lib\\site-packages\\sklearn\\metrics\\_classification.py:1318: UndefinedMetricWarning: Precision and F-score are ill-defined and being set to 0.0 in labels with no predicted samples. Use `zero_division` parameter to control this behavior.\n",
      "  _warn_prf(average, modifier, msg_start, len(result))\n"
     ]
    },
    {
     "name": "stdout",
     "output_type": "stream",
     "text": [
      "Report on SVC Classification: \n",
      "               precision    recall  f1-score   support\n",
      "\n",
      "           6       0.00      0.00      0.00        35\n",
      "           7       0.00      0.00      0.00        30\n",
      "           8       0.00      0.00      0.00        35\n",
      "           9       0.00      0.00      0.00        37\n",
      "          10       0.00      0.00      0.00        52\n",
      "          11       0.00      0.00      0.00        63\n",
      "          12       0.86      1.00      0.92      1538\n",
      "\n",
      "    accuracy                           0.86      1790\n",
      "   macro avg       0.12      0.14      0.13      1790\n",
      "weighted avg       0.74      0.86      0.79      1790\n",
      "\n",
      "svm precision = 0.8444134078212291\n"
     ]
    }
   ],
   "source": [
    "#svc on the pca result\n",
    "X_training, X_testing, y_training, y_testing = train_test_split(A_pca, y, test_size = 0.2, random_state = 0)\n",
    "svc = SVC()\n",
    "svc.fit(X_training, y_training)\n",
    "B_prediction = svc.predict(X_testing)\n",
    "print(\"Report on SVC Classification: \\n\",classification_report(y_testing, B_prediction))\n",
    "accurate_svc = svc.score(X_training, y_training)\n",
    "print(\"svm precision =\", accurate_svc)\n",
    "#utilizing the train-test split method to divide the dataset"
   ]
  },
  {
   "cell_type": "markdown",
   "id": "df3cebfc",
   "metadata": {},
   "source": [
    "3. Apply Linear Discriminant Analysis (LDA) on Iris.csv dataset to reduce dimensionality of data to k=2."
   ]
  },
  {
   "cell_type": "code",
   "execution_count": 76,
   "id": "5f1d4a38",
   "metadata": {},
   "outputs": [
    {
     "name": "stdout",
     "output_type": "stream",
     "text": [
      "   Id  SepalLengthCm  SepalWidthCm  PetalLengthCm  PetalWidthCm      Species\n",
      "0   1            5.1           3.5            1.4           0.2  Iris-setosa\n",
      "1   2            4.9           3.0            1.4           0.2  Iris-setosa\n",
      "2   3            4.7           3.2            1.3           0.2  Iris-setosa\n",
      "3   4            4.6           3.1            1.5           0.2  Iris-setosa\n",
      "4   5            5.0           3.6            1.4           0.2  Iris-setosa\n"
     ]
    }
   ],
   "source": [
    "import pandas as pd\n",
    "import matplotlib.pyplot as plt\n",
    "import seaborn as sn\n",
    "from sklearn.decomposition import PCA\n",
    "from sklearn.discriminant_analysis import LinearDiscriminantAnalysis\n",
    "#Reading the iris.csv dataset\n",
    "iris_dataset = pd.read_csv('Iris.csv')\n",
    "#printing iris dataset \n",
    "print(iris_dataset.head())\n",
    "#dataset locations getting the columns based on the values declared\n",
    "x_ds = iris_dataset.iloc[:, :-1]\n",
    "y_ds= iris_dataset.iloc[:, -1]"
   ]
  },
  {
   "cell_type": "code",
   "execution_count": 77,
   "id": "2cece51e",
   "metadata": {},
   "outputs": [
    {
     "name": "stdout",
     "output_type": "stream",
     "text": [
      "PCA final DF: \n",
      "    component1  component2      Species\n",
      "0   74.547527    0.441426  Iris-setosa\n",
      "1   73.549143    0.309342  Iris-setosa\n",
      "2   72.557120    0.084528  Iris-setosa\n",
      "3   71.551791    0.160353  Iris-setosa\n",
      "4   70.552763    0.227636  Iris-setosa\n"
     ]
    },
    {
     "name": "stderr",
     "output_type": "stream",
     "text": [
      "C:\\Users\\India\\anaconda3\\lib\\site-packages\\seaborn\\axisgrid.py:130: DeprecationWarning: distutils Version classes are deprecated. Use packaging.version instead.\n",
      "  if LooseVersion(mpl.__version__) < LooseVersion(\"3.0\"):\n",
      "C:\\Users\\India\\anaconda3\\lib\\site-packages\\seaborn\\axisgrid.py:130: DeprecationWarning: distutils Version classes are deprecated. Use packaging.version instead.\n",
      "  if LooseVersion(mpl.__version__) < LooseVersion(\"3.0\"):\n"
     ]
    },
    {
     "data": {
      "image/png": "[encoded data removed]",
      "text/plain": [
       "<Figure size 319.25x216 with 1 Axes>"
      ]
     },
     "metadata": {
      "needs_background": "light"
     },
     "output_type": "display_data"
    }
   ],
   "source": [
    "# PCA\n",
    "pca = PCA(2)\n",
    "A_iris = pca.fit_transform(x_ds)\n",
    "# forming the dataframe by principal components and concating the two dataframes\n",
    "iris_pca_dataframe = pd.DataFrame(data = A_iris, columns = ['component1', 'component2'])\n",
    "final_dataframe = pd.concat([iris_pca_dataframe, iris_dataset[['Species']]], axis = 1)\n",
    "#printing the final dataframe of PCA\n",
    "print(\"PCA final DF: \\n\",final_dataframe.head())\n",
    "# visualization for PCA\n",
    "sn.FacetGrid(final_dataframe, hue=\"Species\").map(plt.scatter, 'component1', 'component2').add_legend()\n",
    "#plotting the graph based on the dataframe generated\n",
    "plt.show()"
   ]
  },
  {
   "cell_type": "code",
   "execution_count": 79,
   "id": "f390f379",
   "metadata": {},
   "outputs": [
    {
     "name": "stdout",
     "output_type": "stream",
     "text": [
      "   component1  component2      Species\n",
      "0   10.036763   -0.451330  Iris-setosa\n",
      "1    9.172930   -1.477234  Iris-setosa\n",
      "2    9.480989   -0.979693  Iris-setosa\n",
      "3    8.818119   -1.408602  Iris-setosa\n",
      "4    9.960200   -0.112546  Iris-setosa\n"
     ]
    },
    {
     "name": "stderr",
     "output_type": "stream",
     "text": [
      "C:\\Users\\India\\anaconda3\\lib\\site-packages\\seaborn\\axisgrid.py:130: DeprecationWarning: distutils Version classes are deprecated. Use packaging.version instead.\n",
      "  if LooseVersion(mpl.__version__) < LooseVersion(\"3.0\"):\n",
      "C:\\Users\\India\\anaconda3\\lib\\site-packages\\seaborn\\axisgrid.py:130: DeprecationWarning: distutils Version classes are deprecated. Use packaging.version instead.\n",
      "  if LooseVersion(mpl.__version__) < LooseVersion(\"3.0\"):\n"
     ]
    },
    {
     "data": {
      "image/png": "[encoded data removed]",
      "text/plain": [
       "<Figure size 319.25x216 with 1 Axes>"
      ]
     },
     "metadata": {
      "needs_background": "light"
     },
     "output_type": "display_data"
    }
   ],
   "source": [
    "# Linear Discriminant Analysis (LDA)\n",
    "LinearDiscriminantAnalysisss = LinearDiscriminantAnalysis(n_components=2)\n",
    "lda_analysis = LinearDiscriminantAnalysisss.fit(x, y).transform(x)\n",
    "# forming the dataframe by principal components and concating the two dataframes\n",
    "iris_LinearDiscriminantAnalysis_df = pd.DataFrame(data = lda_analysis, columns = ['component1', 'component2'])\n",
    "lda_df = pd.concat([iris_LinearDiscriminantAnalysis_df, iris_dataset[['Species']]], axis = 1)\n",
    "print(lda_df.head())\n",
    "# LDA visualization\n",
    "sn.FacetGrid(lda_df, hue=\"Species\").map(plt.scatter, 'component1', 'component2').add_legend()\n",
    "#plotting the graph based on the dataframe generated\n",
    "plt.show()"
   ]
  },
  {
   "cell_type": "markdown",
   "id": "4ea14f30",
   "metadata": {},
   "source": [
    "4. Briefly identify the difference between PCA and LDA"
   ]
  },
  {
   "cell_type": "markdown",
   "id": "929d8c26",
   "metadata": {},
   "source": [
    "Both LDA and PCA are used to reduce the number of features. However, while LDA is supervised and will take target values into consideration as well, PCA is based on unsupervised learning and will not consider class labels. LDA also creates a new linear axis, strives for maximum categorization separability, and projects data points on that axis. We can conclude that LDA offers superior feature reduction for labelled data than PCA based on the visuals below."
   ]
  },
  {
   "cell_type": "code",
   "execution_count": null,
   "id": "9cfe812c",
   "metadata": {},
   "outputs": [],
   "source": []
  }
 ],
 "metadata": {
  "kernelspec": {
   "display_name": "Python 3 (ipykernel)",
   "language": "python",
   "name": "python3"
  },
  "language_info": {
   "codemirror_mode": {
    "name": "ipython",
    "version": 3
   },
   "file_extension": ".py",
   "mimetype": "text/x-python",
   "name": "python",
   "nbconvert_exporter": "python",
   "pygments_lexer": "ipython3",
   "version": "3.9.12"
  }
 },
 "nbformat": 4,
 "nbformat_minor": 5
}

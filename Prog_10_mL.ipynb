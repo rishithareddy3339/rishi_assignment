{
 "cells": [
  {
   "cell_type": "code",
   "execution_count": 55,
   "id": "e3b42680",
   "metadata": {},
   "outputs": [
    {
     "name": "stdout",
     "output_type": "stream",
     "text": [
      "Testing Values: [[2], [7], [1], [11]]\n",
      "Predicted data Values: [1 1 1 1]\n",
      "Confusion Matrix value: \n",
      "[[0 3]\n",
      " [0 1]]\n",
      "Accuracy values: \n",
      " 0.25\n",
      "Sensitivy values: \n",
      " 0.0\n",
      "specificity values: \n",
      " 1.0\n"
     ]
    }
   ],
   "source": [
    "from sklearn.neighbors import KNeighborsClassifier\n",
    "from sklearn.model_selection import train_test_split\n",
    "from sklearn import metrics\n",
    "# creating a dataset and diving it into two part \"A\" represents training & \"B\" represents testing \n",
    "Dataset_values = [[1, 0], [2, 1], [3, 1], [6, 1], [6, 1], [7, 0], [10, 0], [11, 0]]\n",
    "A = [[1], [2] ,[3], [6], [6], [7], [10], [11]]\n",
    "b = [0, 1, 1, 1, 1, 0, 0, 0]\n",
    "A_training, A_testing, b_training, b_testing = train_test_split(A, b, test_size = 0.5, random_state=42)\n",
    "# defining 3 as specified value\n",
    "KNN_value = KNeighborsClassifier(n_neighbors=3)\n",
    "KNN_value.fit(A_training, b_training)\n",
    "predicted_data = KNN_value.predict(A_testing)\n",
    "confusion_matrix = metrics.confusion_matrix(b_testing, predicted_data)\n",
    "# obtaing possible combinations for confusion matrix\n",
    "TruePositive = confusion_matrix[0][0]\n",
    "FalsePositive = confusion_matrix[0][1]\n",
    "TrueNegative = confusion_matrix[1][1]\n",
    "FalseNegative = confusion_matrix[1][0]\n",
    "# Calculating testing values,predicted values, confusion matrix value, accuracy,sensitivity,specificity values\n",
    "print(f'Testing Values: {A_testing}')\n",
    "print(f'Predicted data Values: {predicted_data}')\n",
    "print(f'Confusion Matrix value: \\n{confusion_matrix}')\n",
    "print(f'Accuracy values: \\n {metrics.accuracy_score(b_test, predicted_data)}')\n",
    "print(f'Sensitivy values: \\n {TruePositive/(TruePositive + FalsePositive)}')\n",
    "print(f'specificity values: \\n {TrueNegative/(TrueNegative + FalseNegative)}')"
   ]
  },
  {
   "cell_type": "code",
   "execution_count": null,
   "id": "6ab1445e",
   "metadata": {},
   "outputs": [],
   "source": []
  },
  {
   "cell_type": "code",
   "execution_count": null,
   "id": "1ab9b3aa",
   "metadata": {},
   "outputs": [],
   "source": []
  }
 ],
 "metadata": {
  "kernelspec": {
   "display_name": "Python 3 (ipykernel)",
   "language": "python",
   "name": "python3"
  },
  "language_info": {
   "codemirror_mode": {
    "name": "ipython",
    "version": 3
   },
   "file_extension": ".py",
   "mimetype": "text/x-python",
   "name": "python",
   "nbconvert_exporter": "python",
   "pygments_lexer": "ipython3",
   "version": "3.9.12"
  }
 },
 "nbformat": 4,
 "nbformat_minor": 5
}

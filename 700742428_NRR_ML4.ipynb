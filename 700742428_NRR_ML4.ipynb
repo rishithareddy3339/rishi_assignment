{
 "cells": [
  {
   "cell_type": "markdown",
   "id": "94bb2e25",
   "metadata": {},
   "source": [
    "## ASSIGNMENT4"
   ]
  },
  {
   "cell_type": "markdown",
   "id": "c015e86e",
   "metadata": {},
   "source": [
    "## NALLAKALVA RISHITHA REDDY"
   ]
  },
  {
   "cell_type": "markdown",
   "id": "68e31a15",
   "metadata": {},
   "source": [
    "## 700742428"
   ]
  },
  {
   "cell_type": "markdown",
   "id": "f97f8aeb",
   "metadata": {},
   "source": [
    "1. Apply Linear Regression to the provided dataset using underlying steps.\n",
    "a. Import the given “Salary_Data.csv”\n",
    "b. Split the data in train_test partitions, such that 1/3 of the data is reserved as test subset.\n",
    "c. Train and predict the model.\n",
    "d. Calculate the mean_squared error\n",
    "e. Visualize both train and test data using scatter plot."
   ]
  },
  {
   "cell_type": "code",
   "execution_count": 20,
   "id": "2eb418fd",
   "metadata": {},
   "outputs": [],
   "source": [
    "#importing all modules needed for linear regression \n",
    "import pandas as pd\n",
    "import numpy as np\n",
    "import seaborn as seabrn\n",
    "seabrn.set(style=\"white\", color_codes=True)\n",
    "import matplotlib.pyplot as plt\n",
    "from sklearn.linear_model import LinearRegression\n",
    "from sklearn import preprocessing\n",
    "from sklearn import metrics\n",
    "#warnings are used for error indications or intimation of error\n",
    "import warnings\n",
    "warnings.filterwarnings(\"ignore\")\n",
    "from sklearn.impute import SimpleImputer\n",
    "from sklearn.metrics import mean_square_Error\n",
    "from sklearn.cluster import KMeans\n",
    "from sklearn.preprocessing import LabelEncoder, StandardScaler\n",
    "from sklearn.decomposition import PCA\n",
    "from sklearn.model_selection import train_test_split\n"
   ]
  },
  {
   "cell_type": "code",
   "execution_count": 5,
   "id": "deeecb9e",
   "metadata": {},
   "outputs": [
    {
     "data": {
      "text/html": [
       "<div>\n",
       "<style scoped>\n",
       "    .dataframe tbody tr th:only-of-type {\n",
       "        vertical-align: middle;\n",
       "    }\n",
       "\n",
       "    .dataframe tbody tr th {\n",
       "        vertical-align: top;\n",
       "    }\n",
       "\n",
       "    .dataframe thead th {\n",
       "        text-align: right;\n",
       "    }\n",
       "</style>\n",
       "<table border=\"1\" class=\"dataframe\">\n",
       "  <thead>\n",
       "    <tr style=\"text-align: right;\">\n",
       "      <th></th>\n",
       "      <th>YearsExperience</th>\n",
       "      <th>Salary</th>\n",
       "    </tr>\n",
       "  </thead>\n",
       "  <tbody>\n",
       "    <tr>\n",
       "      <th>0</th>\n",
       "      <td>1.1</td>\n",
       "      <td>39343.0</td>\n",
       "    </tr>\n",
       "    <tr>\n",
       "      <th>1</th>\n",
       "      <td>1.3</td>\n",
       "      <td>46205.0</td>\n",
       "    </tr>\n",
       "    <tr>\n",
       "      <th>2</th>\n",
       "      <td>1.5</td>\n",
       "      <td>37731.0</td>\n",
       "    </tr>\n",
       "    <tr>\n",
       "      <th>3</th>\n",
       "      <td>2.0</td>\n",
       "      <td>43525.0</td>\n",
       "    </tr>\n",
       "    <tr>\n",
       "      <th>4</th>\n",
       "      <td>2.2</td>\n",
       "      <td>39891.0</td>\n",
       "    </tr>\n",
       "  </tbody>\n",
       "</table>\n",
       "</div>"
      ],
      "text/plain": [
       "   YearsExperience   Salary\n",
       "0              1.1  39343.0\n",
       "1              1.3  46205.0\n",
       "2              1.5  37731.0\n",
       "3              2.0  43525.0\n",
       "4              2.2  39891.0"
      ]
     },
     "execution_count": 5,
     "metadata": {},
     "output_type": "execute_result"
    }
   ],
   "source": [
    "#showing salary data in a dataframe which has experience and salary \n",
    "data_frame=pd.read_csv(\"Salary_Data.csv\")\n",
    "data_frame.head()"
   ]
  },
  {
   "cell_type": "code",
   "execution_count": 16,
   "id": "6d3eb69d",
   "metadata": {},
   "outputs": [],
   "source": [
    "#data frame values for regression to predict testing values\n",
    "A = data_frame.iloc[:, :-1].values\n",
    "B = data_frame.iloc[:, 1].values\n",
    "A_Training, A_Testing, B_Training, B_Testing = train_test_split(A,B, test_size=1/3,random_state = 0)\n",
    "reg = LinearRegression()\n",
    "reg.fit(A_Training, B_Training)\n",
    "B_Prediction = reg.predict(A_Testing)\n"
   ]
  },
  {
   "cell_type": "code",
   "execution_count": 19,
   "id": "865391b4",
   "metadata": {},
   "outputs": [
    {
     "data": {
      "text/plain": [
       "21026037.329511296"
      ]
     },
     "execution_count": 19,
     "metadata": {},
     "output_type": "execute_result"
    }
   ],
   "source": [
    "#error value of mean square which showing prdiction values\n",
    "mean_square_Error(B_Testing,B_Prediction)"
   ]
  },
  {
   "cell_type": "code",
   "execution_count": 22,
   "id": "e2953ee2",
   "metadata": {},
   "outputs": [
    {
     "data": {
      "image/png": "[encoded data removed]",
      "text/plain": [
       "<Figure size 432x288 with 1 Axes>"
      ]
     },
     "metadata": {},
     "output_type": "display_data"
    }
   ],
   "source": [
    "#showing trained data in dotted graph\n",
    "plt.title('Trained Data')\n",
    "plt.xlabel('Experience(in yrs)')\n",
    "plt.ylabel('Salaries')\n",
    "#plotting scatter values in the graph for x and y axis\n",
    "plt.scatter(A_Training, B_Training)\n",
    "#plotting the graph\n",
    "plt.show()"
   ]
  },
  {
   "cell_type": "code",
   "execution_count": 23,
   "id": "1ba24c85",
   "metadata": {},
   "outputs": [
    {
     "data": {
      "image/png": "[encoded data removed]",
      "text/plain": [
       "<Figure size 432x288 with 1 Axes>"
      ]
     },
     "metadata": {},
     "output_type": "display_data"
    }
   ],
   "source": [
    "#showing tested data \n",
    "plt.title('Tested Data')\n",
    "# showing x and y label for tested graph \n",
    "plt.xlabel('Experience(in yrs)')\n",
    "plt.ylabel('Salaries')\n",
    "#plotting scattered values using below testing values\n",
    "plt.scatter(A_Testing, B_Testing)\n",
    "#showing the plotted graph\n",
    "plt.show()"
   ]
  },
  {
   "cell_type": "markdown",
   "id": "b065e542",
   "metadata": {},
   "source": [
    "2. Apply K means clustering in the dataset provided:\n",
    "• Remove any null values by the mean.\n",
    "• Use the elbow method to find a good number of clusters with the K-Means algorithm\n",
    "• Calculate the silhouette score for the above clustering"
   ]
  },
  {
   "cell_type": "code",
   "execution_count": 80,
   "id": "5307acfb",
   "metadata": {},
   "outputs": [
    {
     "data": {
      "text/html": [
       "<div>\n",
       "<style scoped>\n",
       "    .dataframe tbody tr th:only-of-type {\n",
       "        vertical-align: middle;\n",
       "    }\n",
       "\n",
       "    .dataframe tbody tr th {\n",
       "        vertical-align: top;\n",
       "    }\n",
       "\n",
       "    .dataframe thead th {\n",
       "        text-align: right;\n",
       "    }\n",
       "</style>\n",
       "<table border=\"1\" class=\"dataframe\">\n",
       "  <thead>\n",
       "    <tr style=\"text-align: right;\">\n",
       "      <th></th>\n",
       "      <th>CUST_ID</th>\n",
       "      <th>BALANCE</th>\n",
       "      <th>BALANCE_FREQUENCY</th>\n",
       "      <th>PURCHASES</th>\n",
       "      <th>ONEOFF_PURCHASES</th>\n",
       "      <th>INSTALLMENTS_PURCHASES</th>\n",
       "      <th>CASH_ADVANCE</th>\n",
       "      <th>PURCHASES_FREQUENCY</th>\n",
       "      <th>ONEOFF_PURCHASES_FREQUENCY</th>\n",
       "      <th>PURCHASES_INSTALLMENTS_FREQUENCY</th>\n",
       "      <th>CASH_ADVANCE_FREQUENCY</th>\n",
       "      <th>CASH_ADVANCE_TRX</th>\n",
       "      <th>PURCHASES_TRX</th>\n",
       "      <th>CREDIT_LIMIT</th>\n",
       "      <th>PAYMENTS</th>\n",
       "      <th>MINIMUM_PAYMENTS</th>\n",
       "      <th>PRC_FULL_PAYMENT</th>\n",
       "      <th>TENURE</th>\n",
       "    </tr>\n",
       "  </thead>\n",
       "  <tbody>\n",
       "    <tr>\n",
       "      <th>0</th>\n",
       "      <td>C10001</td>\n",
       "      <td>40.900749</td>\n",
       "      <td>0.818182</td>\n",
       "      <td>95.40</td>\n",
       "      <td>0.00</td>\n",
       "      <td>95.4</td>\n",
       "      <td>0.000000</td>\n",
       "      <td>0.166667</td>\n",
       "      <td>0.000000</td>\n",
       "      <td>0.083333</td>\n",
       "      <td>0.000000</td>\n",
       "      <td>0</td>\n",
       "      <td>2</td>\n",
       "      <td>1000.0</td>\n",
       "      <td>201.802084</td>\n",
       "      <td>139.509787</td>\n",
       "      <td>0.000000</td>\n",
       "      <td>12</td>\n",
       "    </tr>\n",
       "    <tr>\n",
       "      <th>1</th>\n",
       "      <td>C10002</td>\n",
       "      <td>3202.467416</td>\n",
       "      <td>0.909091</td>\n",
       "      <td>0.00</td>\n",
       "      <td>0.00</td>\n",
       "      <td>0.0</td>\n",
       "      <td>6442.945483</td>\n",
       "      <td>0.000000</td>\n",
       "      <td>0.000000</td>\n",
       "      <td>0.000000</td>\n",
       "      <td>0.250000</td>\n",
       "      <td>4</td>\n",
       "      <td>0</td>\n",
       "      <td>7000.0</td>\n",
       "      <td>4103.032597</td>\n",
       "      <td>1072.340217</td>\n",
       "      <td>0.222222</td>\n",
       "      <td>12</td>\n",
       "    </tr>\n",
       "    <tr>\n",
       "      <th>2</th>\n",
       "      <td>C10003</td>\n",
       "      <td>2495.148862</td>\n",
       "      <td>1.000000</td>\n",
       "      <td>773.17</td>\n",
       "      <td>773.17</td>\n",
       "      <td>0.0</td>\n",
       "      <td>0.000000</td>\n",
       "      <td>1.000000</td>\n",
       "      <td>1.000000</td>\n",
       "      <td>0.000000</td>\n",
       "      <td>0.000000</td>\n",
       "      <td>0</td>\n",
       "      <td>12</td>\n",
       "      <td>7500.0</td>\n",
       "      <td>622.066742</td>\n",
       "      <td>627.284787</td>\n",
       "      <td>0.000000</td>\n",
       "      <td>12</td>\n",
       "    </tr>\n",
       "    <tr>\n",
       "      <th>3</th>\n",
       "      <td>C10004</td>\n",
       "      <td>1666.670542</td>\n",
       "      <td>0.636364</td>\n",
       "      <td>1499.00</td>\n",
       "      <td>1499.00</td>\n",
       "      <td>0.0</td>\n",
       "      <td>205.788017</td>\n",
       "      <td>0.083333</td>\n",
       "      <td>0.083333</td>\n",
       "      <td>0.000000</td>\n",
       "      <td>0.083333</td>\n",
       "      <td>1</td>\n",
       "      <td>1</td>\n",
       "      <td>7500.0</td>\n",
       "      <td>0.000000</td>\n",
       "      <td>NaN</td>\n",
       "      <td>0.000000</td>\n",
       "      <td>12</td>\n",
       "    </tr>\n",
       "    <tr>\n",
       "      <th>4</th>\n",
       "      <td>C10005</td>\n",
       "      <td>817.714335</td>\n",
       "      <td>1.000000</td>\n",
       "      <td>16.00</td>\n",
       "      <td>16.00</td>\n",
       "      <td>0.0</td>\n",
       "      <td>0.000000</td>\n",
       "      <td>0.083333</td>\n",
       "      <td>0.083333</td>\n",
       "      <td>0.000000</td>\n",
       "      <td>0.000000</td>\n",
       "      <td>0</td>\n",
       "      <td>1</td>\n",
       "      <td>1200.0</td>\n",
       "      <td>678.334763</td>\n",
       "      <td>244.791237</td>\n",
       "      <td>0.000000</td>\n",
       "      <td>12</td>\n",
       "    </tr>\n",
       "  </tbody>\n",
       "</table>\n",
       "</div>"
      ],
      "text/plain": [
       "  CUST_ID      BALANCE  BALANCE_FREQUENCY  PURCHASES  ONEOFF_PURCHASES  \\\n",
       "0  C10001    40.900749           0.818182      95.40              0.00   \n",
       "1  C10002  3202.467416           0.909091       0.00              0.00   \n",
       "2  C10003  2495.148862           1.000000     773.17            773.17   \n",
       "3  C10004  1666.670542           0.636364    1499.00           1499.00   \n",
       "4  C10005   817.714335           1.000000      16.00             16.00   \n",
       "\n",
       "   INSTALLMENTS_PURCHASES  CASH_ADVANCE  PURCHASES_FREQUENCY  \\\n",
       "0                    95.4      0.000000             0.166667   \n",
       "1                     0.0   6442.945483             0.000000   \n",
       "2                     0.0      0.000000             1.000000   \n",
       "3                     0.0    205.788017             0.083333   \n",
       "4                     0.0      0.000000             0.083333   \n",
       "\n",
       "   ONEOFF_PURCHASES_FREQUENCY  PURCHASES_INSTALLMENTS_FREQUENCY  \\\n",
       "0                    0.000000                          0.083333   \n",
       "1                    0.000000                          0.000000   \n",
       "2                    1.000000                          0.000000   \n",
       "3                    0.083333                          0.000000   \n",
       "4                    0.083333                          0.000000   \n",
       "\n",
       "   CASH_ADVANCE_FREQUENCY  CASH_ADVANCE_TRX  PURCHASES_TRX  CREDIT_LIMIT  \\\n",
       "0                0.000000                 0              2        1000.0   \n",
       "1                0.250000                 4              0        7000.0   \n",
       "2                0.000000                 0             12        7500.0   \n",
       "3                0.083333                 1              1        7500.0   \n",
       "4                0.000000                 0              1        1200.0   \n",
       "\n",
       "      PAYMENTS  MINIMUM_PAYMENTS  PRC_FULL_PAYMENT  TENURE  \n",
       "0   201.802084        139.509787          0.000000      12  \n",
       "1  4103.032597       1072.340217          0.222222      12  \n",
       "2   622.066742        627.284787          0.000000      12  \n",
       "3     0.000000               NaN          0.000000      12  \n",
       "4   678.334763        244.791237          0.000000      12  "
      ]
     },
     "execution_count": 80,
     "metadata": {},
     "output_type": "execute_result"
    }
   ],
   "source": [
    "from sklearn.cluster import KMeans\n",
    "from sklearn import metrics\n",
    "from sklearn.cluster import KMeans\n",
    "from sklearn import metrics\n",
    "# getting kmean dataset valuues in the form of datasets\n",
    "data_frame=pd.read_csv(\"K-Mean_Dataset.csv\")\n",
    "data_frame.head()"
   ]
  },
  {
   "cell_type": "code",
   "execution_count": 81,
   "id": "0c28e721",
   "metadata": {},
   "outputs": [],
   "source": [
    "A = data_frame.iloc[:,1:].values\n",
    "smpl_imputer = SimpleImputer(missing_values=np.nan, strategy='mean')\n",
    "smpl_imputer = smpl_imputer.fit(A)\n",
    "A = imputer.transform(A)"
   ]
  },
  {
   "cell_type": "code",
   "execution_count": 88,
   "id": "4b015185",
   "metadata": {},
   "outputs": [
    {
     "data": {
      "image/png": "[encoded data removed]",
      "text/plain": [
       "<Figure size 432x288 with 1 Axes>"
      ]
     },
     "metadata": {},
     "output_type": "display_data"
    }
   ],
   "source": [
    "\n",
    "Data = []\n",
    "#looping data for k mean values\n",
    "for k in range(1,11):\n",
    "    k_means = KMeans(n_clusters=k,init='k-means++',max_iter=300,n_init=10,random_state=0)\n",
    "    k_means.fit(A)\n",
    "    #appending dtaa to list Data\n",
    "    Data.append(k_means.inertia_)\n",
    "#plotting the range values after adding k mean data\n",
    "plt.plot(range(1,11),Data)\n",
    "plt.title('ELBOW METHOD')\n",
    "plt.xlabel('NO OF CLUSTERS')\n",
    "plt.ylabel('DATA_WCS')\n",
    "plt.show()"
   ]
  },
  {
   "cell_type": "code",
   "execution_count": 67,
   "id": "f3da8ec7",
   "metadata": {},
   "outputs": [
    {
     "data": {
      "text/plain": [
       "KMeans(n_clusters=4)"
      ]
     },
     "execution_count": 67,
     "metadata": {},
     "output_type": "execute_result"
    }
   ],
   "source": [
    "#Try feature scaling and then apply K-Means on the scaled features. Did that improve the Silhouette score? If Yes, can you justify why\n",
    "#showing it as k mean\n",
    "K_clusters = 4 \n",
    "k_mean = KMeans(n_clusters=K_clusters)\n",
    "k_mean.fit(A)"
   ]
  },
  {
   "cell_type": "code",
   "execution_count": 83,
   "id": "c77664e3",
   "metadata": {},
   "outputs": [
    {
     "name": "stdout",
     "output_type": "stream",
     "text": [
      " score of Silhouette: 0.13269785300098325\n"
     ]
    }
   ],
   "source": [
    "cluster_km = km.predict(A)\n",
    "#predicting the k mean to get score of silhouette\n",
    "score = metrics.silhouette_score(A, cluster_km)\n",
    "#printing silhouette_score\n",
    "print(' score of Silhouette:',score)"
   ]
  },
  {
   "cell_type": "code",
   "execution_count": 84,
   "id": "6576b287",
   "metadata": {},
   "outputs": [],
   "source": [
    "standard_scaler = preprocessing.StandardScaler()\n",
    "standard_scaler.fit(A)\n",
    "scaled_array = standard_scaler.transform(A)\n",
    "#finding the scaled data for array\n",
    "scaled_array = pd.DataFrame(scaled_array)"
   ]
  },
  {
   "cell_type": "code",
   "execution_count": 85,
   "id": "afd095c2",
   "metadata": {},
   "outputs": [
    {
     "data": {
      "text/plain": [
       "KMeans(n_clusters=4)"
      ]
     },
     "execution_count": 85,
     "metadata": {},
     "output_type": "execute_result"
    }
   ],
   "source": [
    "\n",
    "n_clusters_data = 4 \n",
    "#adding scalled array to k mean\n",
    "k_mean = KMeans(n_clusters=n_clusters_data)\n",
    "k_mean.fit(scaled_array)"
   ]
  },
  {
   "cell_type": "code",
   "execution_count": 87,
   "id": "120028ff",
   "metadata": {},
   "outputs": [
    {
     "name": "stdout",
     "output_type": "stream",
     "text": [
      "After applying scaling to the score\n",
      "score of Silhouette : 0.1976074492720698\n"
     ]
    }
   ],
   "source": [
    "#applying scaling to score in k mean.\n",
    "y_scaled_cluster_km = km.predict(scaled_array)\n",
    "score = metrics.silhouette_score(scaled_array, y_scaled_cluster_km)\n",
    "print('After applying scaling to the score')\n",
    "print('score of Silhouette :',score)"
   ]
  },
  {
   "cell_type": "code",
   "execution_count": null,
   "id": "d3a809bd",
   "metadata": {},
   "outputs": [],
   "source": [
    "After applying scaling to k means the Silhouette score got decreased in minor range "
   ]
  }
 ],
 "metadata": {
  "kernelspec": {
   "display_name": "Python 3 (ipykernel)",
   "language": "python",
   "name": "python3"
  },
  "language_info": {
   "codemirror_mode": {
    "name": "ipython",
    "version": 3
   },
   "file_extension": ".py",
   "mimetype": "text/x-python",
   "name": "python",
   "nbconvert_exporter": "python",
   "pygments_lexer": "ipython3",
   "version": "3.9.12"
  }
 },
 "nbformat": 4,
 "nbformat_minor": 5
}

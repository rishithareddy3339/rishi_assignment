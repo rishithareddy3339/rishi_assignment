{
 "cells": [
  {
   "cell_type": "markdown",
   "id": "722e0452",
   "metadata": {},
   "source": [
    "ASSIGNMENT 1\n",
    "---------------\n",
    "\n",
    "Question 1\n",
    "----"
   ]
  },
  {
   "cell_type": "markdown",
   "id": "66874ed5",
   "metadata": {},
   "source": [
    "The following is a list of 10 students ages:"
   ]
  },
  {
   "cell_type": "markdown",
   "id": "0c4ad4fd",
   "metadata": {},
   "source": [
    "ages = [19, 22, 19, 24, 20, 25, 26, 24, 25, 24]"
   ]
  },
  {
   "cell_type": "markdown",
   "id": "63a23b87",
   "metadata": {},
   "source": [
    "1.1) Sort the list and find the min and max age"
   ]
  },
  {
   "cell_type": "code",
   "execution_count": 93,
   "id": "8b43a784",
   "metadata": {},
   "outputs": [
    {
     "name": "stdout",
     "output_type": "stream",
     "text": [
      "OUTPUT :\n",
      "[19, 19, 20, 22, 24, 24, 24, 25, 25, 26]\n",
      "From list ages minimum age is : 19\n",
      "From list ages maximum age is : 26\n"
     ]
    }
   ],
   "source": [
    "print(\"OUTPUT :\")\n",
    "ages = [19, 22, 19, 24, 20, 25, 26, 24, 25, 24]\n",
    "#sorting ages list \n",
    "ages.sort()\n",
    "# printing sorted list of ages\n",
    "print(ages)\n",
    "# printing minimum age from ages list after sorting\n",
    "print(\"From list ages minimum age is :\",min(ages))\n",
    "# printing maximum age from ages list after sorting\n",
    "print(\"From list ages maximum age is :\",max(ages))"
   ]
  },
  {
   "cell_type": "markdown",
   "id": "10c9cba3",
   "metadata": {},
   "source": [
    "1.2) Add the min age and the max age again to the list"
   ]
  },
  {
   "cell_type": "code",
   "execution_count": 94,
   "id": "739a5664",
   "metadata": {},
   "outputs": [
    {
     "name": "stdout",
     "output_type": "stream",
     "text": [
      "OUTPUT :\n",
      "[19, 22, 19, 24, 20, 25, 26, 24, 25, 24, 19]\n",
      "[19, 22, 19, 24, 20, 25, 26, 24, 25, 24, 19, 26]\n",
      "[19, 19, 19, 20, 22, 24, 24, 24, 25, 25, 26, 26]\n"
     ]
    }
   ],
   "source": [
    "print(\"OUTPUT :\")\n",
    "ages = [19, 22, 19, 24, 20, 25, 26, 24, 25, 24]\n",
    "# checking for minimum age  from list\n",
    "Minimumage=min(ages)\n",
    "# checking for maximum age from list\n",
    "Maximumage=max(ages)\n",
    "# adding minimum age to list again\n",
    "ages.append(Minimumage)\n",
    "print(ages)\n",
    "# adding maximum age \n",
    "ages.append(Maximumage)\n",
    "# printing result after adding max and min ages to list\n",
    "print(ages)\n",
    "ages.sort()\n",
    "print(ages)"
   ]
  },
  {
   "cell_type": "markdown",
   "id": "746110eb",
   "metadata": {},
   "source": [
    "1.3) Find the median age (one middle item or two middle items divided by two)"
   ]
  },
  {
   "cell_type": "code",
   "execution_count": 95,
   "id": "fa0fe625",
   "metadata": {},
   "outputs": [
    {
     "name": "stdout",
     "output_type": "stream",
     "text": [
      "OUTPUT :\n",
      "The median age of list ages is : 22.5\n"
     ]
    }
   ],
   "source": [
    "print(\"OUTPUT :\")\n",
    "ages = [19, 22, 19, 24, 20, 25, 26, 24, 25, 24]\n",
    "# Getting median age from list\n",
    "medianAge= len(ages)//2\n",
    "medianResult =(ages[medianAge]+ ages[~medianAge])/2\n",
    "# printing result of median age\n",
    "print(\"The median age of list ages is :\" ,medianResult)"
   ]
  },
  {
   "cell_type": "markdown",
   "id": "534e365e",
   "metadata": {},
   "source": [
    "1.4) Find the average age (sum of all items divided by their number)\n"
   ]
  },
  {
   "cell_type": "code",
   "execution_count": 96,
   "id": "26caa87d",
   "metadata": {},
   "outputs": [
    {
     "name": "stdout",
     "output_type": "stream",
     "text": [
      "OUTPUT :\n",
      "The average age is  22.8\n"
     ]
    }
   ],
   "source": [
    "print(\"OUTPUT :\")\n",
    "ages  = [19, 22, 19, 24, 20, 25, 26, 24, 25, 24]\n",
    "# dividing sum of ages and length of ages then assigning to variable\n",
    "avgerage_Age = sum(ages)/len(ages) #To find average of list \n",
    "# Printing result of average age\n",
    "print(\"The average age is \", round(avgerage_Age,2))"
   ]
  },
  {
   "cell_type": "markdown",
   "id": "c63df31d",
   "metadata": {},
   "source": [
    "1.5) Find the range of the ages (max minus min)"
   ]
  },
  {
   "cell_type": "code",
   "execution_count": 97,
   "id": "097fc9ac",
   "metadata": {},
   "outputs": [
    {
     "name": "stdout",
     "output_type": "stream",
     "text": [
      "OUTPUT :\n",
      "Range of the ages: 7\n"
     ]
    }
   ],
   "source": [
    "print(\"OUTPUT :\")\n",
    "ages  = [19, 22, 19, 24, 20, 25, 26, 24, 25, 24]\n",
    "# Ranging maximum_age minus minimum_age\n",
    "print(\"Range of the ages:\" ,max(ages)-min(ages))"
   ]
  },
  {
   "cell_type": "markdown",
   "id": "0b2d0fd8",
   "metadata": {},
   "source": [
    "Question 2\n",
    "----"
   ]
  },
  {
   "cell_type": "markdown",
   "id": "80412b30",
   "metadata": {},
   "source": [
    "2.1) Create an empty dictionary called dog"
   ]
  },
  {
   "cell_type": "code",
   "execution_count": 98,
   "id": "2e8ba35d",
   "metadata": {},
   "outputs": [
    {
     "name": "stdout",
     "output_type": "stream",
     "text": [
      "OUTPUT :\n",
      "Empty dictionary is: {}\n"
     ]
    }
   ],
   "source": [
    "print(\"OUTPUT :\")\n",
    "# {} symbol is used to initialize dictionary of empty\n",
    "dog = {} # creating an empty dictionary\n",
    "# print dictionary\n",
    "print(\"Empty dictionary is:\",dog)"
   ]
  },
  {
   "cell_type": "markdown",
   "id": "0490e924",
   "metadata": {},
   "source": [
    "2.2) Add name, color, breed, legs, age to the dog dictionary"
   ]
  },
  {
   "cell_type": "code",
   "execution_count": 102,
   "id": "1790b2f7",
   "metadata": {},
   "outputs": [
    {
     "name": "stdout",
     "output_type": "stream",
     "text": [
      "OUTPUT :\n",
      "DOG = {'Name': 'Bruce', 'color': 'Gold & white', 'Breed': 'Laborador', 'Legs': 'Four legs', 'Age': '3 years'}\n"
     ]
    }
   ],
   "source": [
    "print(\"OUTPUT :\")\n",
    "#SHOWING EMPTY SET DOG INITALLY\n",
    "DOG ={}\n",
    "# Adding up keys and value to the \"DOG\" dictionary\n",
    "DOG['Name']='Bruce'\n",
    "DOG['color']='Gold & white'\n",
    "DOG['Breed']='Laborador'\n",
    "DOG['Legs']='Four legs'\n",
    "DOG['Age']='3 years'\n",
    "# PRINTING RESULT\n",
    "print(\"DOG =\",DOG)"
   ]
  },
  {
   "cell_type": "markdown",
   "id": "4c111dee",
   "metadata": {},
   "source": [
    "2.3) Create a student dictionary and add first_name, last_name, gender, age, marital status,\n",
    "skills, country, city and address as keys for the dictionary"
   ]
  },
  {
   "cell_type": "code",
   "execution_count": 103,
   "id": "affd0d97",
   "metadata": {},
   "outputs": [
    {
     "name": "stdout",
     "output_type": "stream",
     "text": [
      "OUTPUT :\n",
      "keys for the dictionary is : {'first_name': 'rishitha', 'last_name': 'reddy', 'gender': 'female', 'age': '24', 'marital status': 'unmarried', 'skills': 'being chill', 'country': 'india', 'city': 'hyderabad', 'address': 'telangana'}\n"
     ]
    }
   ],
   "source": [
    "print(\"OUTPUT :\")\n",
    "# assigning keys and values to students \n",
    "# declaring it as {key: value}\n",
    "student ={'first_name':'rishitha', 'last_name':'reddy', 'gender':'female','age': '24','marital status':'unmarried','skills':'being chill','country':'india','city':'hyderabad','address':'telangana'}\n",
    "# printing result \n",
    "print(\"keys for the dictionary is :\",student)"
   ]
  },
  {
   "cell_type": "markdown",
   "id": "d321452c",
   "metadata": {},
   "source": [
    "2.4) Get the length of the student dictionary"
   ]
  },
  {
   "cell_type": "code",
   "execution_count": 104,
   "id": "8a48dc2a",
   "metadata": {},
   "outputs": [
    {
     "name": "stdout",
     "output_type": "stream",
     "text": [
      "OUTPUT :\n",
      "Length of student dictionary: 9\n"
     ]
    }
   ],
   "source": [
    "print(\"OUTPUT :\")\n",
    "student ={'first_name':'rishitha', 'last_name':'reddy', 'gender':'female','age': '24','marital status':'unmarried','skills':'being chill','country':'india','city':'hyderabad','address': 'telangana'}\n",
    "# print dictionary length\n",
    "print(\"Length of student dictionary:\", len(student))"
   ]
  },
  {
   "cell_type": "markdown",
   "id": "470849de",
   "metadata": {},
   "source": [
    "2.5) Get the value of skills and check the data type, it should be a list"
   ]
  },
  {
   "cell_type": "code",
   "execution_count": 105,
   "id": "ed4a75e0",
   "metadata": {},
   "outputs": [
    {
     "name": "stdout",
     "output_type": "stream",
     "text": [
      "OUTPUT :\n",
      "skills value is:  being chill\n",
      "Type of student list:  <class 'list'>\n"
     ]
    }
   ],
   "source": [
    "print(\"OUTPUT :\")\n",
    "student ={'first_name':'rishitha', 'last_name':'reddy', 'gender':'female','age': '24','marital status':'unmarried','skills':'being chill','country':'india','city':'hyderabad','address': 'telangana'}\n",
    "# by using get method we are getting value by using key.\n",
    "print( \"skills value is: \" ,student.get('skills')) # printing values\n",
    "studentList = list(student) # converting set to list \n",
    "# printing type of list\n",
    "print(\"Type of student list: \",type(studentList))"
   ]
  },
  {
   "cell_type": "markdown",
   "id": "2e93df52",
   "metadata": {},
   "source": [
    "2.6) Modify the skills values by adding one or two skills"
   ]
  },
  {
   "cell_type": "code",
   "execution_count": 106,
   "id": "1b63fdb4",
   "metadata": {},
   "outputs": [
    {
     "name": "stdout",
     "output_type": "stream",
     "text": [
      "OUTPUT :\n",
      "{'first_name': 'rishitha', 'last_name': 'reddy', 'gender': 'female', 'age': '24', 'marital status': 'unmarried', 'skills': ['being chill', 'Artist', 'Watching Movies'], 'country': 'india', 'city': 'hyderabad', 'address': 'telangana'}\n"
     ]
    }
   ],
   "source": [
    "print(\"OUTPUT :\")\n",
    "student ={'first_name':'rishitha', 'last_name':'reddy', 'gender':'female','age': '24','marital status':'unmarried','skills':['being chill'],'country':'india','city':'hyderabad','address': 'telangana'}\n",
    "# adding new \n",
    "student['skills'].append('Artist')\n",
    "student['skills'].append('Watching Movies')\n",
    "print(student)"
   ]
  },
  {
   "cell_type": "markdown",
   "id": "338b442d",
   "metadata": {},
   "source": [
    "2.7) Get the dictionary keys as a list"
   ]
  },
  {
   "cell_type": "code",
   "execution_count": 107,
   "id": "3fae1f1b",
   "metadata": {},
   "outputs": [
    {
     "name": "stdout",
     "output_type": "stream",
     "text": [
      "OUTPUT :\n",
      "student keys: dict_keys(['first_name', 'last_name', 'gender', 'age', 'marital status', 'skills', 'country', 'city', 'address'])\n"
     ]
    }
   ],
   "source": [
    "print(\"OUTPUT :\")\n",
    "student ={'first_name':'rishitha', 'last_name':'reddy', 'gender':'female','age': '24','marital status':'unmarried','skills':'being chill','country':'india','city':'hyderabad','address': 'telangana'}\n",
    "# printing student keys from the list\n",
    "print(\"student keys:\",student.keys())"
   ]
  },
  {
   "cell_type": "markdown",
   "id": "36892eb7",
   "metadata": {},
   "source": [
    "2.8) Get the dictionary values as a list"
   ]
  },
  {
   "cell_type": "code",
   "execution_count": 108,
   "id": "e9483e55",
   "metadata": {},
   "outputs": [
    {
     "name": "stdout",
     "output_type": "stream",
     "text": [
      "OUTPUT :\n",
      "student values are: dict_values(['rishitha', 'reddy', 'female', '24', 'unmarried', 'being chill', 'india', 'hyderabad', 'telangana'])\n"
     ]
    }
   ],
   "source": [
    "print(\"OUTPUT :\")\n",
    "student ={'first_name':'rishitha', 'last_name':'reddy', 'gender':'female','age': '24','marital status':'unmarried','skills':'being chill','country':'india','city':'hyderabad','address': 'telangana'}\n",
    "# printing student values from the list\n",
    "print(\"student values are:\",student.values())"
   ]
  },
  {
   "cell_type": "markdown",
   "id": "49f7c47e",
   "metadata": {},
   "source": [
    "QUESTION 3\n",
    "---"
   ]
  },
  {
   "cell_type": "markdown",
   "id": "57e7a49f",
   "metadata": {},
   "source": [
    "3.1) Create a tuple containing names of your sisters and your brothers (imaginary siblings are\n",
    "fine)"
   ]
  },
  {
   "cell_type": "code",
   "execution_count": 109,
   "id": "85efdb3f",
   "metadata": {},
   "outputs": [
    {
     "name": "stdout",
     "output_type": "stream",
     "text": [
      "OUTPUT :\n",
      "Brother names are : ('deepakkumarreddy', 'lakshmikanthreddy', 'harshvardhanreddy', 'bruce', 'sunilreddy', 'Jyothir')\n",
      "Sister Names are : ('leelavaishnavi', 'tanmay', 'aradhya', 'vishnupriya')\n"
     ]
    }
   ],
   "source": [
    "print(\"OUTPUT :\")\n",
    "# CREATING TUPLES USING BROTHER NAMES\n",
    "brotherNames = (\"deepakkumarreddy\", \"lakshmikanthreddy\", \"harshvardhanreddy\",\"bruce\",\"sunilreddy\",\"Jyothir\")\n",
    "# CREATING TUPLES USING SISTER NAMES\n",
    "sisterNames=(\"leelavaishnavi\",\"tanmay\",\"aradhya\",\"vishnupriya\")\n",
    "# PRINTING TUPLES WITH BROTHER & SISTER NAMES\n",
    "print(\"Brother names are :\", brotherNames)\n",
    "print(\"Sister Names are :\", sisterNames)"
   ]
  },
  {
   "cell_type": "markdown",
   "id": "92bc93dc",
   "metadata": {},
   "source": [
    "3.2) Join brothers and sisters tuples and assign it to siblings"
   ]
  },
  {
   "cell_type": "code",
   "execution_count": 114,
   "id": "0090670e",
   "metadata": {},
   "outputs": [
    {
     "name": "stdout",
     "output_type": "stream",
     "text": [
      "OUTPUT :\n",
      "SIBLINGS = ('leelavaishnavi', 'tanmay', 'aradhya', 'vishnupriya', 'deepakkumarreddy', 'lakshmikanthreddy', 'harshvardhanreddy', 'bruce', 'sunilreddy', 'Jyothir')\n"
     ]
    }
   ],
   "source": [
    "print(\"OUTPUT :\")\n",
    "# Adding to siblings\n",
    "SiblingsMixed=sisterNames+brotherNames\n",
    "# printing results after appending both brother and sisters.\n",
    "print(\"SIBLINGS =\",SiblingsMixed)"
   ]
  },
  {
   "cell_type": "markdown",
   "id": "892de6c4",
   "metadata": {},
   "source": [
    "3.3)How many siblings do you have?"
   ]
  },
  {
   "cell_type": "code",
   "execution_count": 111,
   "id": "bd0f1e2d",
   "metadata": {},
   "outputs": [
    {
     "name": "stdout",
     "output_type": "stream",
     "text": [
      "OUTPUT :\n",
      "10\n"
     ]
    }
   ],
   "source": [
    "print(\"OUTPUT :\")\n",
    "# printing total length of siblings\n",
    "print(len(SiblingsMixed))"
   ]
  },
  {
   "cell_type": "markdown",
   "id": "754802cb",
   "metadata": {},
   "source": [
    "3.4) Modify the siblings tuple and add the name of your father and mother and assign it to\n",
    "family_members"
   ]
  },
  {
   "cell_type": "code",
   "execution_count": 117,
   "id": "6df17460",
   "metadata": {},
   "outputs": [
    {
     "name": "stdout",
     "output_type": "stream",
     "text": [
      "OUTPUT :\n",
      "('leelavaishnavi', 'tanmay', 'aradhya', 'vishnupriya', 'deepakkumarreddy', 'lakshmikanthreddy', 'harshvardhanreddy', 'bruce', 'sunilreddy', 'Jyothir', ' Nallakalva Ram bhupal reddy', 'KONDAREDDY UMA maheshwari')\n"
     ]
    }
   ],
   "source": [
    "print(\"OUTPUT :\")\n",
    "SiblingsMixed=('leelavaishnavi', 'tanmay', 'aradhya', 'vishnupriya', 'deepakkumarreddy', 'lakshmikanthreddy',\n",
    "               'harshvardhanreddy', 'bruce', 'sunilreddy', 'Jyothir')\n",
    "Father_Name =\" Nallakalva Ram bhupal reddy\"\n",
    "Mother_Name =\"KONDAREDDY UMA maheshwari\"\n",
    "# ADDING FAMILY MEMBERS AND SIBLINGS\n",
    "Family_Members=SiblingsMixed + (Father_Name , Mother_Name)\n",
    "# PRINTING RESULTS\n",
    "print(Family_Members)"
   ]
  },
  {
   "cell_type": "markdown",
   "id": "42f58310",
   "metadata": {},
   "source": [
    "QUESTION 4\n",
    "-----"
   ]
  },
  {
   "cell_type": "markdown",
   "id": "4198ffb2",
   "metadata": {},
   "source": [
    "it_companies = {'Facebook', 'Google', 'Microsoft', 'Apple', 'IBM', 'Oracle', 'Amazon'}\n"
   ]
  },
  {
   "cell_type": "markdown",
   "id": "ac3ec359",
   "metadata": {},
   "source": [
    "A = {19, 22, 24, 20, 25, 26}"
   ]
  },
  {
   "cell_type": "markdown",
   "id": "e97a6154",
   "metadata": {},
   "source": [
    "B = {19, 22, 20, 25, 26, 24, 28, 27}"
   ]
  },
  {
   "cell_type": "markdown",
   "id": "663b5c80",
   "metadata": {},
   "source": [
    "age = [22, 19, 24, 25, 26, 24, 25, 24]"
   ]
  },
  {
   "cell_type": "markdown",
   "id": "215f4362",
   "metadata": {},
   "source": [
    "4.1) Find the length of the set it_companies"
   ]
  },
  {
   "cell_type": "code",
   "execution_count": 118,
   "id": "f190cd0a",
   "metadata": {},
   "outputs": [
    {
     "name": "stdout",
     "output_type": "stream",
     "text": [
      "OUTPUT :\n",
      "Length of it_companies set is 7.\n"
     ]
    }
   ],
   "source": [
    "print(\"OUTPUT :\")\n",
    "it_companies = {'Facebook', 'Google', 'Microsoft', 'Apple', 'IBM', 'Oracle', 'Amazon'}\n",
    "# LENGTH OF IT_COMPANIES IS PRINTED\n",
    "print(f'Length of it_companies set is {len(it_companies)}.')"
   ]
  },
  {
   "cell_type": "markdown",
   "id": "7b080fbc",
   "metadata": {},
   "source": [
    "4.2) Add 'Twitter' to it_companies\n"
   ]
  },
  {
   "cell_type": "code",
   "execution_count": 119,
   "id": "59ae0ab1",
   "metadata": {},
   "outputs": [
    {
     "name": "stdout",
     "output_type": "stream",
     "text": [
      "OUTPUT :\n",
      "After adding up another value the set is. {'Oracle', 'Twitter', 'Google', 'Facebook', 'Apple', 'IBM', 'Microsoft', 'Amazon'}\n"
     ]
    }
   ],
   "source": [
    "print(\"OUTPUT :\")\n",
    "# AFTER ADDING ITEM TO it_companies = {'Facebook', 'Google', 'Microsoft', 'Apple', 'IBM', 'Oracle', 'Amazon','Twitter'}\n",
    "it_companies = {'Facebook', 'Google', 'Microsoft', 'Apple', 'IBM', 'Oracle', 'Amazon'}\n",
    "# ADDING TWITTER TO SET\n",
    "it_companies.add('Twitter')\n",
    "# PRINTING ADDED UP RESULT\n",
    "print(\"After adding up another value the set is.\",it_companies)"
   ]
  },
  {
   "cell_type": "markdown",
   "id": "7429c58f",
   "metadata": {},
   "source": [
    "4.3) Insert multiple IT companies at once to the set it_companies"
   ]
  },
  {
   "cell_type": "code",
   "execution_count": 120,
   "id": "41919d8a",
   "metadata": {},
   "outputs": [
    {
     "name": "stdout",
     "output_type": "stream",
     "text": [
      "OUTPUT :\n",
      "{'Oracle', 'IBM', 'Google', 'deloitte', 'Facebook', 'TCS', 'capgemini', 'Amazon', 'Microsoft', 'Apple'}\n"
     ]
    }
   ],
   "source": [
    "print(\"OUTPUT :\")\n",
    "it_companies = {'Facebook', 'Google', 'Microsoft', 'Apple', 'IBM', 'Oracle', 'Amazon'}\n",
    "# ADDING MORE COMPANIES \n",
    "Companies ={'TCS', 'deloitte','capgemini'}\n",
    "# ADDING MORE COMPANIES TO LIST\n",
    "it_companies.update(Companies)\n",
    "# PRINTING RESULTS\n",
    "print(it_companies )"
   ]
  },
  {
   "cell_type": "markdown",
   "id": "8da4772d",
   "metadata": {},
   "source": [
    "4.4) Remove one of the companies from the set it_companies"
   ]
  },
  {
   "cell_type": "code",
   "execution_count": 121,
   "id": "116310c9",
   "metadata": {},
   "outputs": [
    {
     "name": "stdout",
     "output_type": "stream",
     "text": [
      "OUTPUT :\n",
      "{'Oracle', 'IBM', 'Google', 'ibm', 'deloitte', 'Facebook', 'capgemini', 'Microsoft', 'Apple'}\n"
     ]
    }
   ],
   "source": [
    "print(\"OUTPUT :\")\n",
    "it_companies = {'Oracle', 'IBM', 'Google', 'ibm', 'deloitte', 'Facebook', 'capgemini', 'Amazon', 'Microsoft', 'Apple'}\n",
    "# REMOVING ONE COMPANY FROM LIST\n",
    "it_companies.remove('Amazon')\n",
    "# PRINTING RESULT\n",
    "print(it_companies)"
   ]
  },
  {
   "cell_type": "markdown",
   "id": "b8c7be1d",
   "metadata": {},
   "source": [
    "4.5) What is the difference between remove and discard\n",
    "\n",
    "ANS:       REMOVE                                                   DISCARD\n",
    "      -> Remove element from the set.                            -> Remove element from the set.\n",
    "      -> Raises KeyError if elem is not contained in the set.    -> Error is displayed even if element is not in set\n"
   ]
  },
  {
   "cell_type": "code",
   "execution_count": 122,
   "id": "bff3cd95",
   "metadata": {},
   "outputs": [
    {
     "name": "stdout",
     "output_type": "stream",
     "text": [
      "OUTPUT :\n",
      "{'Oracle', 'IBM', 'Google', 'deloitte', 'Facebook', 'capgemini', 'Amazon', 'Microsoft', 'Apple'}\n",
      "{'Oracle', 'Google', 'deloitte', 'Facebook', 'capgemini', 'Amazon', 'Microsoft', 'Apple'}\n"
     ]
    }
   ],
   "source": [
    "print(\"OUTPUT :\")\n",
    "it_companies = {'Oracle', 'IBM', 'Google', 'ibm', 'deloitte', 'Facebook', 'capgemini', 'Amazon', 'Microsoft', 'Apple'}\n",
    "# remove example\n",
    "it_companies.remove('ibm')\n",
    "print(it_companies)\n",
    "# if element is not in set it shows erroe when remove is used\n",
    "#--------------------------------------\n",
    "# it_companies.remove('Astoria')\n",
    "#--------------------------------------\n",
    "# discard example\n",
    "it_companies.discard('IBM')\n",
    "print(it_companies)\n",
    "# EVEN IF ITEM IS NOT PRESENT IN THE SET DISCARD DOESN'T SHOW ERROR\n",
    "it_companies.discard('IBM')"
   ]
  },
  {
   "cell_type": "markdown",
   "id": "2ebab740",
   "metadata": {},
   "source": [
    "4.6) Join A and B"
   ]
  },
  {
   "cell_type": "code",
   "execution_count": 123,
   "id": "5a95fe18",
   "metadata": {},
   "outputs": [
    {
     "name": "stdout",
     "output_type": "stream",
     "text": [
      "OUTPUT :\n",
      " Value of c is: {19, 20, 22, 24, 25, 26, 27, 28}\n"
     ]
    }
   ],
   "source": [
    "print(\"OUTPUT :\")\n",
    "a = {19, 22, 24, 20, 25, 26}\n",
    "b = {19, 22, 20, 25, 26, 24, 28, 27}\n",
    "# Joining both a and b by using union operator\n",
    "c = a.union(b)\n",
    "print(\" Value of c is:\",c)"
   ]
  },
  {
   "cell_type": "markdown",
   "id": "ffdc7b5f",
   "metadata": {},
   "source": [
    "4.7) Find A intersection B"
   ]
  },
  {
   "cell_type": "code",
   "execution_count": 124,
   "id": "bce50668",
   "metadata": {},
   "outputs": [
    {
     "name": "stdout",
     "output_type": "stream",
     "text": [
      "OUTPUT :\n",
      "A intersection B is: {19, 20, 22, 24, 25, 26}\n"
     ]
    }
   ],
   "source": [
    "print(\"OUTPUT :\")\n",
    "a = {19, 22, 24, 20, 25, 26}\n",
    "b = {19, 22, 20, 25, 26, 24, 28, 27}\n",
    "# intersection is showing same items\n",
    "print(\"A intersection B is:\",a.intersection(b))"
   ]
  },
  {
   "cell_type": "markdown",
   "id": "5a4beaea",
   "metadata": {},
   "source": [
    "4.8) Is A subset of B"
   ]
  },
  {
   "cell_type": "code",
   "execution_count": 125,
   "id": "4e02d829",
   "metadata": {},
   "outputs": [
    {
     "name": "stdout",
     "output_type": "stream",
     "text": [
      "OUTPUT :\n",
      "A is subset of B: True\n"
     ]
    }
   ],
   "source": [
    "print(\"OUTPUT :\")\n",
    "A = {19, 22, 24, 20, 25, 26}\n",
    "B = {19, 22, 20, 25, 26, 24, 28, 27}\n",
    "# checking all items of A are present in B \n",
    "print('A is subset of B:', A.issubset(B))"
   ]
  },
  {
   "cell_type": "markdown",
   "id": "a9d79dbb",
   "metadata": {},
   "source": [
    "4.9) Are A and B disjoint sets"
   ]
  },
  {
   "cell_type": "code",
   "execution_count": 126,
   "id": "d746e1d7",
   "metadata": {},
   "outputs": [
    {
     "name": "stdout",
     "output_type": "stream",
     "text": [
      "OUTPUT :\n",
      "False\n"
     ]
    }
   ],
   "source": [
    "print(\"OUTPUT :\")\n",
    "A = {19, 22, 24, 20, 25, 26}\n",
    "B = {19, 22, 20, 25, 26, 24, 28, 27}\n",
    "# when sets dont have common it is disjoint\n",
    "Disjointset = A.isdisjoint(B) # checking elements are common are not\n",
    "# printing results\n",
    "print(Disjointset)"
   ]
  },
  {
   "cell_type": "markdown",
   "id": "56432065",
   "metadata": {},
   "source": [
    "4.10)Join A with B and B with A"
   ]
  },
  {
   "cell_type": "code",
   "execution_count": 127,
   "id": "62be4fbc",
   "metadata": {},
   "outputs": [
    {
     "name": "stdout",
     "output_type": "stream",
     "text": [
      "OUTPUT :\n",
      "{19, 20, 22, 24, 25, 26, 27, 28}\n",
      "{19, 20, 22, 24, 25, 26, 27, 28}\n"
     ]
    }
   ],
   "source": [
    "print(\"OUTPUT :\")\n",
    "A = {19, 22, 24, 20, 25, 26}\n",
    "B = {19, 22, 20, 25, 26, 24, 28, 27}\n",
    "# Combing a U b and removes duplicates\n",
    "print(A.union(B))\n",
    "# Combing b U a and removes duplicates\n",
    "print(B.union(A))"
   ]
  },
  {
   "cell_type": "markdown",
   "id": "9d3fa8b6",
   "metadata": {},
   "source": [
    "4.11)What is the symmetric difference between A and B"
   ]
  },
  {
   "cell_type": "code",
   "execution_count": 128,
   "id": "007c9750",
   "metadata": {},
   "outputs": [
    {
     "name": "stdout",
     "output_type": "stream",
     "text": [
      "OUTPUT :\n",
      "{27, 28}\n"
     ]
    }
   ],
   "source": [
    "print(\"OUTPUT :\")\n",
    "A = {19, 22, 24, 20, 25, 26}\n",
    "B = {19, 22, 20, 25, 26, 24, 28, 27}\n",
    "# Returns all items to result variable except the items on intersection and shows output\n",
    "sYMMETRICDIFF = A.symmetric_difference(B)\n",
    "# printing result\n",
    "print(sYMMETRICDIFF)"
   ]
  },
  {
   "cell_type": "markdown",
   "id": "42a59ba8",
   "metadata": {},
   "source": [
    "4.12)Delete the sets completely"
   ]
  },
  {
   "cell_type": "code",
   "execution_count": 129,
   "id": "7244cd6d",
   "metadata": {},
   "outputs": [
    {
     "name": "stdout",
     "output_type": "stream",
     "text": [
      "OUTPUT :\n",
      "Set it_companies:  set()\n",
      "SET A:  set()\n",
      "Set B: set()\n"
     ]
    }
   ],
   "source": [
    "print(\"OUTPUT :\")\n",
    "# Deleting all sets using clear method\n",
    "it_companies.clear()\n",
    "A.clear()\n",
    "B.clear()\n",
    "# printing results after clearing\n",
    "print(\"Set it_companies: \",it_companies)\n",
    "print(\"SET A: \",A)\n",
    "print(\"Set B:\",B)"
   ]
  },
  {
   "cell_type": "markdown",
   "id": "3df1da46",
   "metadata": {},
   "source": [
    "4.13) Convert the ages to a set and compare the length of the list and the set"
   ]
  },
  {
   "cell_type": "code",
   "execution_count": 130,
   "id": "87867b15",
   "metadata": {},
   "outputs": [
    {
     "name": "stdout",
     "output_type": "stream",
     "text": [
      "OUTPUT :\n",
      "List of age: [22, 19, 24, 25, 26, 24, 25, 24]\n",
      "Set of age: {19, 22, 24, 25, 26}\n",
      " set length: 5\n",
      "list length: 8\n",
      "length is not equal after changing list to set\n"
     ]
    }
   ],
   "source": [
    "print(\"OUTPUT :\")\n",
    "age = [22, 19, 24, 25, 26, 24, 25, 24]\n",
    "print(\"List of age:\",age)\n",
    "# converting list to set\n",
    "ageCompare=set(age)\n",
    "# printing\n",
    "print(\"Set of age:\",ageCompare)\n",
    "# length of age\n",
    "length = len(ageCompare)\n",
    "# printing length\n",
    "print(\" set length:\",length)\n",
    "length2 = len(age)\n",
    "print(\"list length:\",length2)\n",
    "# Comparing list and set by conditions\n",
    "# if it accepts conditon it goes to \"IF CONDITION\"\n",
    "# if it doesnot accepts it goes to \"ELSE CONDITION\"\n",
    "if length == length2:\n",
    "   print(\"length is equal after changing list to set\")\n",
    "else:\n",
    "   print(\"length is not equal after changing list to set\")"
   ]
  },
  {
   "cell_type": "markdown",
   "id": "532c0655",
   "metadata": {},
   "source": [
    "QUESTION 5\n",
    "----"
   ]
  },
  {
   "cell_type": "markdown",
   "id": "d4ed86c1",
   "metadata": {},
   "source": [
    "The radius of a circle is 30 meters."
   ]
  },
  {
   "cell_type": "markdown",
   "id": "3ee8d288",
   "metadata": {},
   "source": [
    "5.1) Calculate the area of a circle and assign the value to a variable name of _area_of_circle_\n"
   ]
  },
  {
   "cell_type": "code",
   "execution_count": 131,
   "id": "b8bc9b02",
   "metadata": {},
   "outputs": [
    {
     "name": "stdout",
     "output_type": "stream",
     "text": [
      "OUTPUT :\n",
      "Area of circle is:  2826.0\n"
     ]
    }
   ],
   "source": [
    "print(\"OUTPUT :\")\n",
    "# Intializing the properties\n",
    "PI=3.14\n",
    "r = 30\n",
    "#Formaula for area of a circle \n",
    "area_of_circle = PI * r * r\n",
    "#Print the Results\n",
    "print(\"Area of circle is: \",area_of_circle)\n"
   ]
  },
  {
   "cell_type": "markdown",
   "id": "559d2c08",
   "metadata": {},
   "source": [
    "5.2)Calculate the circumference of a circle and assign the value to a variable name of\n",
    "_circum_of_circle_\n"
   ]
  },
  {
   "cell_type": "code",
   "execution_count": 132,
   "id": "f516f398",
   "metadata": {},
   "outputs": [
    {
     "name": "stdout",
     "output_type": "stream",
     "text": [
      "OUTPUT :\n",
      "Circumference of circle is:  188.4\n"
     ]
    }
   ],
   "source": [
    "print(\"OUTPUT :\")\n",
    "# Intializing the properties\n",
    "PI=3.14\n",
    "r = 30\n",
    "#Formula for Circumference of a circle\n",
    "circum_of_circle=2*PI*r\n",
    "#Print the Cirum of the Circle\n",
    "print(\"Circumference of circle is: \",circum_of_circle)"
   ]
  },
  {
   "cell_type": "markdown",
   "id": "a48e4293",
   "metadata": {},
   "source": [
    "5.3)Take radius as user input and calculate the area."
   ]
  },
  {
   "cell_type": "code",
   "execution_count": 133,
   "id": "cafbd849",
   "metadata": {},
   "outputs": [
    {
     "name": "stdout",
     "output_type": "stream",
     "text": [
      "OUTPUT :\n",
      "enter radius: 33\n",
      "3419.46\n"
     ]
    }
   ],
   "source": [
    "print(\"OUTPUT :\")\n",
    "# Intialize the properties\n",
    "PI=3.14\n",
    "#Take radius input from user\n",
    "r = float(input(\"enter radius: \"))\n",
    "#Formaula for area of a circle \n",
    "area_of_circle = PI * r * r\n",
    "#Print the Results\n",
    "print(area_of_circle)"
   ]
  },
  {
   "cell_type": "markdown",
   "id": "55e6c2a2",
   "metadata": {},
   "source": [
    "QUESTION 6\n",
    "------"
   ]
  },
  {
   "cell_type": "markdown",
   "id": "7d6ac3f0",
   "metadata": {},
   "source": [
    "“I am a teacher and I love to inspire and teach people”"
   ]
  },
  {
   "cell_type": "markdown",
   "id": "3332fa89",
   "metadata": {},
   "source": [
    "6.1) How many unique words have been used in the sentence? Use the split methods and set\n",
    "to get the unique words."
   ]
  },
  {
   "cell_type": "code",
   "execution_count": 134,
   "id": "83229189",
   "metadata": {
    "scrolled": true
   },
   "outputs": [
    {
     "name": "stdout",
     "output_type": "stream",
     "text": [
      "OUTPUT :\n",
      " Unique words count are: 10\n"
     ]
    }
   ],
   "source": [
    "print(\"OUTPUT :\")\n",
    "#Assigning the sentence to a stringSentence\n",
    "stringSentence = 'I am a teacher and I love to inspire and teach people'\n",
    "#Displays the word count and count unique word as single and print results\n",
    "print( \" Unique words count are:\",len(set(stringSentence.split())))"
   ]
  },
  {
   "cell_type": "markdown",
   "id": "5966a6cb",
   "metadata": {},
   "source": [
    "QUESTION 7\n",
    "-----"
   ]
  },
  {
   "cell_type": "markdown",
   "id": "a0839a18",
   "metadata": {},
   "source": [
    "Use a tab escape sequence to get the following lines."
   ]
  },
  {
   "cell_type": "markdown",
   "id": "8ce0e14b",
   "metadata": {},
   "source": [
    "Name               Age            Country              City\n"
   ]
  },
  {
   "cell_type": "markdown",
   "id": "85177451",
   "metadata": {},
   "source": [
    " Asabeneh            250            Finland            Helsinki"
   ]
  },
  {
   "cell_type": "code",
   "execution_count": 135,
   "id": "0a705a6a",
   "metadata": {},
   "outputs": [
    {
     "name": "stdout",
     "output_type": "stream",
     "text": [
      "OUTPUT :\n",
      "Name\tAge\tCountry\tCity\n",
      "Asabeneh\t250\tFinland\tHelsinki\n"
     ]
    }
   ],
   "source": [
    "print(\"OUTPUT :\")\n",
    "# \\T REPRESENTS TAB SPACE\n",
    "# \\N REPRESENTS AS NEXT LINE\n",
    "#PRINTING THE OUTPUT BASE ON REQUIREMENT \n",
    "print(\"Name\\tAge\\tCountry\\tCity\\nAsabeneh\\t250\\tFinland\\tHelsinki\")"
   ]
  },
  {
   "cell_type": "markdown",
   "id": "4e6de810",
   "metadata": {},
   "source": [
    "QUESTION 8\n",
    "-----"
   ]
  },
  {
   "cell_type": "markdown",
   "id": "41a07ac2",
   "metadata": {},
   "source": [
    "Use the string formatting method to display the following:"
   ]
  },
  {
   "cell_type": "markdown",
   "id": "36e9494d",
   "metadata": {},
   "source": [
    "radius = 10"
   ]
  },
  {
   "cell_type": "markdown",
   "id": "8c834c1a",
   "metadata": {},
   "source": [
    "area = 3.14 * radius ** 2"
   ]
  },
  {
   "cell_type": "markdown",
   "id": "ae1ce046",
   "metadata": {},
   "source": [
    "“The area of a circle with radius 10 is 314 meters square.”"
   ]
  },
  {
   "cell_type": "code",
   "execution_count": 137,
   "id": "2e830bee",
   "metadata": {},
   "outputs": [
    {
     "name": "stdout",
     "output_type": "stream",
     "text": [
      "OUTPUT :\n",
      " The area of a circle radius 10 is 314.0 meters square.\n"
     ]
    }
   ],
   "source": [
    "#Given radius\n",
    "radius = 10\n",
    "#Calucalate area of the circle\n",
    "area = 3.14 * radius ** 2\n",
    "#Print the results\n",
    "print(\"OUTPUT :\")\n",
    "print(\" \" + \"The area of a circle radius\" + \" \" + str(radius) + \" \" +\"is\" + \" \"+ str(3.14 * radius **2) +\" meters square.\")"
   ]
  },
  {
   "cell_type": "markdown",
   "id": "c47e05d6",
   "metadata": {},
   "source": [
    "QUESTION 9\n",
    "---"
   ]
  },
  {
   "cell_type": "markdown",
   "id": "b417e1ad",
   "metadata": {},
   "source": [
    "Write a program, which reads weights (lbs.) of N students into a list and convert these weights to\n",
    "kilograms in a separate list using Loop. N: No of students (Read input from user)"
   ]
  },
  {
   "cell_type": "markdown",
   "id": "ae43d9cc",
   "metadata": {},
   "source": [
    "Ex: L1: [150, 155, 145, 148]"
   ]
  },
  {
   "cell_type": "markdown",
   "id": "dd5a67d2",
   "metadata": {},
   "source": [
    "Output: [68.03, 70.3, 65.77, 67.13]"
   ]
  },
  {
   "cell_type": "code",
   "execution_count": 143,
   "id": "652fd980",
   "metadata": {},
   "outputs": [
    {
     "name": "stdout",
     "output_type": "stream",
     "text": [
      "OUTPUT :\n",
      "enter no.4\n",
      "enter weights350\n",
      "enter weights450\n",
      "enter weights650\n",
      "enter weights340\n",
      "[350.0, 450.0, 650.0, 340.0]\n",
      "[158.7572, 204.1164, 294.8348, 154.22128]\n"
     ]
    }
   ],
   "source": [
    "print(\"OUTPUT :\")\n",
    "# Intializing the List and variables\n",
    "studentslist = []\n",
    "kg= []\n",
    "J=0\n",
    "# Taking Number of Students input from user\n",
    "a = input(\"enter no.\")\n",
    "# Looping data for multiple records \n",
    "for J in range(int(a)):\n",
    " # Taking weights from user\n",
    " lb = float(input(\"enter weights\"))\n",
    " # Appending the weight of each student to the List\n",
    " studentslist.append(lb)\n",
    " # Converting the weight from lb to Kilograms\n",
    " result = lb*0.453592\n",
    " # Appending the weight in Kilograms to the New List\n",
    " kg.append(result)\n",
    "# Printing results\n",
    "print(studentslist)\n",
    "print(kg)"
   ]
  },
  {
   "cell_type": "markdown",
   "id": "be49e458",
   "metadata": {},
   "source": [
    "QUESTION 10\n",
    "-------------"
   ]
  },
  {
   "cell_type": "markdown",
   "id": "16447963",
   "metadata": {},
   "source": [
    "The diagram below shows a dataset with 2 classes and 8 data points, each with only one feature\n",
    "value, labeled f. Note that there are two data points with the same feature value of 6. These are\n",
    "shown as two x’s one above the other. "
   ]
  },
  {
   "attachments": {
    "image.png": {
     "image/png": "[encoded data removed]"
    }
   },
   "cell_type": "markdown",
   "id": "ccbaf0f7",
   "metadata": {},
   "source": [
    "![image.png](attachment:image.png)"
   ]
  },
  {
   "cell_type": "markdown",
   "id": "8c1fafbb",
   "metadata": {},
   "source": [
    "1. Divide this data equally into two parts. Use first part as training and second part as\n",
    "testing. Using KNN classifier, for K=3, what would be the predicted outputs for the test\n",
    "samples? Show how you arrived at your answer."
   ]
  },
  {
   "cell_type": "markdown",
   "id": "f18d3f47",
   "metadata": {},
   "source": [
    "2. Compute the confusion matrix for this and calculate accuracy, sensitivity and specificity\n",
    "values. "
   ]
  },
  {
   "cell_type": "code",
   "execution_count": 2,
   "id": "dfc3195c",
   "metadata": {},
   "outputs": [
    {
     "name": "stdout",
     "output_type": "stream",
     "text": [
      "Testing Values: [[2], [7], [1], [11]]\n",
      "Predicted data Values: [1 1 1 1]\n",
      "Confusion Matrix value: \n",
      "[[0 3]\n",
      " [0 1]]\n",
      "Accuracy values: \n",
      " 0.25\n",
      "Sensitivy values: \n",
      " 0.0\n",
      "specificity values: \n",
      " 1.0\n"
     ]
    }
   ],
   "source": [
    "from sklearn.neighbors import KNeighborsClassifier\n",
    "from sklearn.model_selection import train_test_split\n",
    "from sklearn import metrics\n",
    "# creating a dataset and diving it into two part \"A\" represents training & \"B\" represents testing \n",
    "Dataset_values = [[1, 0], [2, 1], [3, 1], [6, 1], [6, 1], [7, 0], [10, 0], [11, 0]]\n",
    "A = [[1], [2] ,[3], [6], [6], [7], [10], [11]]\n",
    "b = [0, 1, 1, 1, 1, 0, 0, 0]\n",
    "A_training, A_testing, b_training, b_testing = train_test_split(A, b, test_size = 0.5, random_state=42)\n",
    "# defining 3 as specified value\n",
    "KNN_value = KNeighborsClassifier(n_neighbors=3)\n",
    "KNN_value.fit(A_training, b_training)\n",
    "predicted_data = KNN_value.predict(A_testing)\n",
    "confusion_matrix = metrics.confusion_matrix(b_testing, predicted_data)\n",
    "# obtaing possible combinations for confusion matrix\n",
    "TruePositive = confusion_matrix[0][0]\n",
    "FalsePositive = confusion_matrix[0][1]\n",
    "TrueNegative = confusion_matrix[1][1]\n",
    "FalseNegative = confusion_matrix[1][0]\n",
    "# Calculating testing values,predicted values, confusion matrix value, accuracy,sensitivity,specificity values\n",
    "print(f'Testing Values: {A_testing}')\n",
    "print(f'Predicted data Values: {predicted_data}')\n",
    "print(f'Confusion Matrix value: \\n{confusion_matrix}')\n",
    "print(f'Accuracy values: \\n {metrics.accuracy_score(b_testing, predicted_data)}')\n",
    "print(f'Sensitivy values: \\n {TruePositive/(TruePositive + FalsePositive)}')\n",
    "print(f'specificity values: \\n {TrueNegative/(TrueNegative + FalseNegative)}')"
   ]
  },
  {
   "cell_type": "code",
   "execution_count": null,
   "id": "b9568995",
   "metadata": {},
   "outputs": [],
   "source": []
  }
 ],
 "metadata": {
  "kernelspec": {
   "display_name": "Python 3 (ipykernel)",
   "language": "python",
   "name": "python3"
  },
  "language_info": {
   "codemirror_mode": {
    "name": "ipython",
    "version": 3
   },
   "file_extension": ".py",
   "mimetype": "text/x-python",
   "name": "python",
   "nbconvert_exporter": "python",
   "pygments_lexer": "ipython3",
   "version": "3.9.12"
  }
 },
 "nbformat": 4,
 "nbformat_minor": 5
}
